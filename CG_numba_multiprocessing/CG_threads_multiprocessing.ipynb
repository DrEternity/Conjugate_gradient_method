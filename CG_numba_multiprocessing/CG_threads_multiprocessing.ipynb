{
 "cells": [
  {
   "cell_type": "code",
   "execution_count": 1,
   "id": "a5df3ca9",
   "metadata": {},
   "outputs": [
    {
     "name": "stdout",
     "output_type": "stream",
     "text": [
      "env: OMP_NUM_THREADS=1\n"
     ]
    }
   ],
   "source": [
    "%env OMP_NUM_THREADS=1\n",
    "\n",
    "import numpy as np\n",
    "import timeit"
   ]
  },
  {
   "cell_type": "markdown",
   "id": "a5136c7b",
   "metadata": {},
   "source": [
    "# Метод сопряжённых градиентов "
   ]
  },
  {
   "cell_type": "code",
   "execution_count": 2,
   "id": "a8142807",
   "metadata": {},
   "outputs": [],
   "source": [
    "def matvec(A, b):\n",
    "    n = b.size\n",
    "    z = np.zeros(n)\n",
    "    for i in range(n):\n",
    "        for j in range(n):\n",
    "            z[i] += A[i][j] * b[j]\n",
    "    return z"
   ]
  },
  {
   "cell_type": "code",
   "execution_count": 3,
   "id": "01c40396",
   "metadata": {},
   "outputs": [],
   "source": [
    "def SG(A, b, x_0, eps, matvec, verbose = True):\n",
    "    x = x_0.copy()\n",
    "    n = x.size\n",
    "    r = b - matvec(A, x) # b - A @ x\n",
    "    r0 = np.linalg.norm(r)\n",
    "    p = r\n",
    "    tmp = np.zeros(n)\n",
    "    for i in range(1, n + 1):\n",
    "        if (i % 15 == 0):\n",
    "            r = b - matvec(A, x) # b - A @ x\n",
    "        alpha = np.inner(r, r)\n",
    "        beta = 1 / alpha\n",
    "        tmp = matvec(A, p) #A @ p\n",
    "        alpha /= np.inner(tmp, p)\n",
    "        r -= alpha * tmp\n",
    "        x += alpha * p\n",
    "        if verbose:\n",
    "            print(f\"падение невязки на {i}) шаге: \", np.linalg.norm(r) / r0)\n",
    "        if (np.linalg.norm(r) / r0 < eps):\n",
    "            if verbose:\n",
    "                print(f\"EPS {np.linalg.norm(r) / r0}\")\n",
    "                print(f\"{i} iterations\")\n",
    "            return\n",
    "        beta *= np.inner(r, r)\n",
    "        p = beta * p + r\n",
    "    if verbose:\n",
    "        print(f\"EPS {np.linalg.norm(r) / r0}\")\n",
    "        print(\"Full iterations\")"
   ]
  },
  {
   "cell_type": "code",
   "execution_count": 10,
   "id": "7bbb1d4e",
   "metadata": {},
   "outputs": [],
   "source": [
    "n = 2000\n",
    "eps = 1e-8\n",
    "A = np.random.rand(n, n)\n",
    "A = (A + A.T) / 2\n",
    "for i in range(n):\n",
    "    A[i, i] = A[i, :].sum()\n",
    "x_sol = np.random.rand(n)\n",
    "b = A @ x_sol\n",
    "x_0 = np.random.rand(n)"
   ]
  },
  {
   "cell_type": "code",
   "execution_count": 11,
   "id": "e30d93eb",
   "metadata": {},
   "outputs": [
    {
     "name": "stdout",
     "output_type": "stream",
     "text": [
      "падение невязки на 1) шаге:  0.01955945948979688\n",
      "падение невязки на 2) шаге:  0.006193518797085412\n",
      "падение невязки на 3) шаге:  0.000126045056803046\n",
      "падение невязки на 4) шаге:  3.603528848037276e-06\n",
      "падение невязки на 5) шаге:  8.134553433940533e-07\n",
      "падение невязки на 6) шаге:  1.712428432522514e-08\n",
      "падение невязки на 7) шаге:  7.570144986247755e-10\n",
      "EPS 7.570144986247755e-10\n",
      "7 iterations\n",
      "CPU times: user 21.8 s, sys: 312 µs, total: 21.8 s\n",
      "Wall time: 21.8 s\n"
     ]
    }
   ],
   "source": [
    "%%time\n",
    "SG(A, b, x_0, eps, matvec)"
   ]
  },
  {
   "cell_type": "markdown",
   "id": "66397d32",
   "metadata": {},
   "source": [
    "# просто Numba"
   ]
  },
  {
   "cell_type": "code",
   "execution_count": 14,
   "id": "32803969",
   "metadata": {},
   "outputs": [],
   "source": [
    "import numba"
   ]
  },
  {
   "cell_type": "code",
   "execution_count": 15,
   "id": "3d5ecb8f",
   "metadata": {},
   "outputs": [],
   "source": [
    "@numba.jit(nopython=True)\n",
    "def matvec(A, b):\n",
    "    n = b.size\n",
    "    z = np.zeros(n)\n",
    "    for i in range(n):\n",
    "        for j in range(n):\n",
    "            z[i] += A[i][j] * b[j]\n",
    "    return z"
   ]
  },
  {
   "cell_type": "code",
   "execution_count": 16,
   "id": "3f466ffb",
   "metadata": {},
   "outputs": [
    {
     "name": "stdout",
     "output_type": "stream",
     "text": [
      "падение невязки на 1) шаге:  0.01955945948979688\n",
      "падение невязки на 2) шаге:  0.006193518797085412\n",
      "падение невязки на 3) шаге:  0.000126045056803046\n",
      "падение невязки на 4) шаге:  3.603528848037276e-06\n",
      "падение невязки на 5) шаге:  8.134553433940533e-07\n",
      "падение невязки на 6) шаге:  1.712428432522514e-08\n",
      "падение невязки на 7) шаге:  7.570144986247755e-10\n",
      "EPS 7.570144986247755e-10\n",
      "7 iterations\n",
      "CPU times: user 776 ms, sys: 40 ms, total: 816 ms\n",
      "Wall time: 943 ms\n"
     ]
    }
   ],
   "source": [
    "%%time\n",
    "SG(A, b, x_0, eps, matvec)"
   ]
  },
  {
   "cell_type": "markdown",
   "id": "995373c2",
   "metadata": {},
   "source": [
    "# Параллельная Numba"
   ]
  },
  {
   "cell_type": "code",
   "execution_count": 269,
   "id": "d37391cc",
   "metadata": {},
   "outputs": [],
   "source": [
    "from numba import prange"
   ]
  },
  {
   "cell_type": "code",
   "execution_count": 275,
   "id": "86b9b860",
   "metadata": {},
   "outputs": [],
   "source": [
    "@numba.jit(nopython=True, parallel=True)\n",
    "def matvec(A, b):\n",
    "    n = b.size\n",
    "    z = np.zeros(n)\n",
    "    for i in prange(n):\n",
    "        for j in range(n):\n",
    "            z[i] += A[i][j] * b[j]\n",
    "    return z"
   ]
  },
  {
   "cell_type": "code",
   "execution_count": 276,
   "id": "3e7752ec",
   "metadata": {},
   "outputs": [],
   "source": [
    "numba.set_num_threads(1)"
   ]
  },
  {
   "cell_type": "code",
   "execution_count": 278,
   "id": "2f9e79ea",
   "metadata": {},
   "outputs": [
    {
     "name": "stdout",
     "output_type": "stream",
     "text": [
      "падение невязки на 1) шаге:  0.040691059694569987\n",
      "падение невязки на 2) шаге:  0.008988069018311973\n",
      "падение невязки на 3) шаге:  0.0002421522667315467\n",
      "падение невязки на 4) шаге:  4.619481236168102e-05\n",
      "падение невязки на 5) шаге:  1.7252224017405605e-06\n",
      "падение невязки на 6) шаге:  7.955199227529846e-08\n",
      "падение невязки на 7) шаге:  2.1929894216912e-08\n",
      "падение невязки на 8) шаге:  4.644132824462652e-10\n",
      "EPS 4.644132824462652e-10\n",
      "8 iterations\n",
      "CPU times: user 11.7 ms, sys: 3.96 ms, total: 15.7 ms\n",
      "Wall time: 13.4 ms\n"
     ]
    }
   ],
   "source": [
    "%%time\n",
    "SG(A, b, x_0, eps, matvec)"
   ]
  },
  {
   "cell_type": "markdown",
   "id": "28db3f38",
   "metadata": {},
   "source": [
    "# Анализ результатов"
   ]
  },
  {
   "cell_type": "code",
   "execution_count": 279,
   "id": "f7a91529",
   "metadata": {},
   "outputs": [],
   "source": [
    "times = []"
   ]
  },
  {
   "cell_type": "code",
   "execution_count": 280,
   "id": "ec40a709",
   "metadata": {},
   "outputs": [
    {
     "name": "stdout",
     "output_type": "stream",
     "text": [
      "Size:1000.0, Threads: 1\n",
      "Size:1000.0, Threads: 2\n",
      "Size:1000.0, Threads: 3\n",
      "Size:1000.0, Threads: 4\n",
      "Size:1000.0, Threads: 5\n",
      "Size:1000.0, Threads: 6\n",
      "Size:1000.0, Threads: 7\n",
      "Size:1000.0, Threads: 8\n",
      "Size:1000.0, Threads: 9\n",
      "Size:1000.0, Threads: 10\n",
      "Size:2000.0, Threads: 1\n",
      "Size:2000.0, Threads: 2\n",
      "Size:2000.0, Threads: 3\n",
      "Size:2000.0, Threads: 4\n",
      "Size:2000.0, Threads: 5\n",
      "Size:2000.0, Threads: 6\n",
      "Size:2000.0, Threads: 7\n",
      "Size:2000.0, Threads: 8\n",
      "Size:2000.0, Threads: 9\n",
      "Size:2000.0, Threads: 10\n",
      "Size:3000.0, Threads: 1\n",
      "Size:3000.0, Threads: 2\n",
      "Size:3000.0, Threads: 3\n",
      "Size:3000.0, Threads: 4\n",
      "Size:3000.0, Threads: 5\n",
      "Size:3000.0, Threads: 6\n",
      "Size:3000.0, Threads: 7\n",
      "Size:3000.0, Threads: 8\n",
      "Size:3000.0, Threads: 9\n",
      "Size:3000.0, Threads: 10\n",
      "Size:4000.0, Threads: 1\n",
      "Size:4000.0, Threads: 2\n",
      "Size:4000.0, Threads: 3\n",
      "Size:4000.0, Threads: 4\n",
      "Size:4000.0, Threads: 5\n",
      "Size:4000.0, Threads: 6\n",
      "Size:4000.0, Threads: 7\n",
      "Size:4000.0, Threads: 8\n",
      "Size:4000.0, Threads: 9\n",
      "Size:4000.0, Threads: 10\n",
      "Size:5000.0, Threads: 1\n",
      "Size:5000.0, Threads: 2\n",
      "Size:5000.0, Threads: 3\n",
      "Size:5000.0, Threads: 4\n",
      "Size:5000.0, Threads: 5\n",
      "Size:5000.0, Threads: 6\n",
      "Size:5000.0, Threads: 7\n",
      "Size:5000.0, Threads: 8\n",
      "Size:5000.0, Threads: 9\n",
      "Size:5000.0, Threads: 10\n",
      "Size:6000.0, Threads: 1\n",
      "Size:6000.0, Threads: 2\n",
      "Size:6000.0, Threads: 3\n",
      "Size:6000.0, Threads: 4\n",
      "Size:6000.0, Threads: 5\n",
      "Size:6000.0, Threads: 6\n",
      "Size:6000.0, Threads: 7\n",
      "Size:6000.0, Threads: 8\n",
      "Size:6000.0, Threads: 9\n",
      "Size:6000.0, Threads: 10\n",
      "Size:7000.0, Threads: 1\n",
      "Size:7000.0, Threads: 2\n",
      "Size:7000.0, Threads: 3\n",
      "Size:7000.0, Threads: 4\n",
      "Size:7000.0, Threads: 5\n",
      "Size:7000.0, Threads: 6\n",
      "Size:7000.0, Threads: 7\n",
      "Size:7000.0, Threads: 8\n",
      "Size:7000.0, Threads: 9\n",
      "Size:7000.0, Threads: 10\n",
      "Size:8000.0, Threads: 1\n",
      "Size:8000.0, Threads: 2\n",
      "Size:8000.0, Threads: 3\n",
      "Size:8000.0, Threads: 4\n",
      "Size:8000.0, Threads: 5\n",
      "Size:8000.0, Threads: 6\n",
      "Size:8000.0, Threads: 7\n",
      "Size:8000.0, Threads: 8\n",
      "Size:8000.0, Threads: 9\n",
      "Size:8000.0, Threads: 10\n",
      "Size:9000.0, Threads: 1\n",
      "Size:9000.0, Threads: 2\n",
      "Size:9000.0, Threads: 3\n",
      "Size:9000.0, Threads: 4\n",
      "Size:9000.0, Threads: 5\n",
      "Size:9000.0, Threads: 6\n",
      "Size:9000.0, Threads: 7\n",
      "Size:9000.0, Threads: 8\n",
      "Size:9000.0, Threads: 9\n",
      "Size:9000.0, Threads: 10\n",
      "Size:10000.0, Threads: 1\n",
      "Size:10000.0, Threads: 2\n",
      "Size:10000.0, Threads: 3\n",
      "Size:10000.0, Threads: 4\n",
      "Size:10000.0, Threads: 5\n",
      "Size:10000.0, Threads: 6\n",
      "Size:10000.0, Threads: 7\n",
      "Size:10000.0, Threads: 8\n",
      "Size:10000.0, Threads: 9\n",
      "Size:10000.0, Threads: 10\n",
      "Size:11000.0, Threads: 1\n",
      "Size:11000.0, Threads: 2\n",
      "Size:11000.0, Threads: 3\n",
      "Size:11000.0, Threads: 4\n",
      "Size:11000.0, Threads: 5\n",
      "Size:11000.0, Threads: 6\n",
      "Size:11000.0, Threads: 7\n",
      "Size:11000.0, Threads: 8\n",
      "Size:11000.0, Threads: 9\n",
      "Size:11000.0, Threads: 10\n",
      "Size:12000.0, Threads: 1\n",
      "Size:12000.0, Threads: 2\n",
      "Size:12000.0, Threads: 3\n",
      "Size:12000.0, Threads: 4\n",
      "Size:12000.0, Threads: 5\n",
      "Size:12000.0, Threads: 6\n",
      "Size:12000.0, Threads: 7\n",
      "Size:12000.0, Threads: 8\n",
      "Size:12000.0, Threads: 9\n",
      "Size:12000.0, Threads: 10\n",
      "Size:13000.0, Threads: 1\n",
      "Size:13000.0, Threads: 2\n",
      "Size:13000.0, Threads: 3\n",
      "Size:13000.0, Threads: 4\n",
      "Size:13000.0, Threads: 5\n",
      "Size:13000.0, Threads: 6\n",
      "Size:13000.0, Threads: 7\n",
      "Size:13000.0, Threads: 8\n",
      "Size:13000.0, Threads: 9\n",
      "Size:13000.0, Threads: 10\n",
      "Size:14000.0, Threads: 1\n",
      "Size:14000.0, Threads: 2\n",
      "Size:14000.0, Threads: 3\n",
      "Size:14000.0, Threads: 4\n",
      "Size:14000.0, Threads: 5\n",
      "Size:14000.0, Threads: 6\n",
      "Size:14000.0, Threads: 7\n",
      "Size:14000.0, Threads: 8\n",
      "Size:14000.0, Threads: 9\n",
      "Size:14000.0, Threads: 10\n",
      "Size:15000.0, Threads: 1\n",
      "Size:15000.0, Threads: 2\n",
      "Size:15000.0, Threads: 3\n",
      "Size:15000.0, Threads: 4\n",
      "Size:15000.0, Threads: 5\n",
      "Size:15000.0, Threads: 6\n",
      "Size:15000.0, Threads: 7\n",
      "Size:15000.0, Threads: 8\n",
      "Size:15000.0, Threads: 9\n",
      "Size:15000.0, Threads: 10\n",
      "Size:16000.0, Threads: 1\n",
      "Size:16000.0, Threads: 2\n",
      "Size:16000.0, Threads: 3\n",
      "Size:16000.0, Threads: 4\n",
      "Size:16000.0, Threads: 5\n",
      "Size:16000.0, Threads: 6\n",
      "Size:16000.0, Threads: 7\n",
      "Size:16000.0, Threads: 8\n",
      "Size:16000.0, Threads: 9\n",
      "Size:16000.0, Threads: 10\n",
      "Size:17000.0, Threads: 1\n",
      "Size:17000.0, Threads: 2\n",
      "Size:17000.0, Threads: 3\n",
      "Size:17000.0, Threads: 4\n",
      "Size:17000.0, Threads: 5\n",
      "Size:17000.0, Threads: 6\n",
      "Size:17000.0, Threads: 7\n",
      "Size:17000.0, Threads: 8\n",
      "Size:17000.0, Threads: 9\n",
      "Size:17000.0, Threads: 10\n",
      "Size:18000.0, Threads: 1\n",
      "Size:18000.0, Threads: 2\n",
      "Size:18000.0, Threads: 3\n",
      "Size:18000.0, Threads: 4\n",
      "Size:18000.0, Threads: 5\n",
      "Size:18000.0, Threads: 6\n",
      "Size:18000.0, Threads: 7\n",
      "Size:18000.0, Threads: 8\n",
      "Size:18000.0, Threads: 9\n",
      "Size:18000.0, Threads: 10\n",
      "Size:19000.0, Threads: 1\n",
      "Size:19000.0, Threads: 2\n",
      "Size:19000.0, Threads: 3\n",
      "Size:19000.0, Threads: 4\n",
      "Size:19000.0, Threads: 5\n",
      "Size:19000.0, Threads: 6\n",
      "Size:19000.0, Threads: 7\n",
      "Size:19000.0, Threads: 8\n",
      "Size:19000.0, Threads: 9\n",
      "Size:19000.0, Threads: 10\n",
      "Size:20000.0, Threads: 1\n",
      "Size:20000.0, Threads: 2\n",
      "Size:20000.0, Threads: 3\n",
      "Size:20000.0, Threads: 4\n",
      "Size:20000.0, Threads: 5\n",
      "Size:20000.0, Threads: 6\n",
      "Size:20000.0, Threads: 7\n",
      "Size:20000.0, Threads: 8\n",
      "Size:20000.0, Threads: 9\n",
      "Size:20000.0, Threads: 10\n"
     ]
    }
   ],
   "source": [
    "eps = 1e-8\n",
    "for size in np.linspace(1e3, 2 * 1e4, 20):\n",
    "    n = int(size)\n",
    "    A = np.random.rand(n, n)\n",
    "    A = (A + A.T) / 2\n",
    "    for i in range(n):\n",
    "        A[i, i] = A[i, :].sum()\n",
    "    x_sol = np.random.rand(n)\n",
    "    b = A @ x_sol\n",
    "    x_0 = np.random.rand(n)\n",
    "    \n",
    "    for j in range(1, 11):\n",
    "        numba.set_num_threads(j)\n",
    "        print(f\"Size:{size}, Threads: {j}\")\n",
    "        details = %timeit -o -r 10 -q SG(A, b, x_0, eps, matvec, verbose=False)\n",
    "        times.append(details.average)"
   ]
  },
  {
   "cell_type": "code",
   "execution_count": 301,
   "id": "12ce1ba0",
   "metadata": {},
   "outputs": [],
   "source": [
    "times = np.array(times).reshape(20, 10)"
   ]
  },
  {
   "cell_type": "code",
   "execution_count": 292,
   "id": "9f06652c",
   "metadata": {},
   "outputs": [],
   "source": [
    "size, threads = np.meshgrid(np.arange(1, 11), np.linspace(1e3, 2 * 1e4, 20))"
   ]
  },
  {
   "cell_type": "code",
   "execution_count": 347,
   "id": "77ff20e8",
   "metadata": {},
   "outputs": [
    {
     "data": {
      "image/png": "[encoded data removed]",
      "text/plain": [
       "<Figure size 720x720 with 1 Axes>"
      ]
     },
     "metadata": {
      "needs_background": "light"
     },
     "output_type": "display_data"
    }
   ],
   "source": [
    "from matplotlib import cbook\n",
    "from matplotlib import cm\n",
    "from matplotlib.colors import LightSource\n",
    "import matplotlib.pyplot as plt\n",
    "import numpy as np\n",
    "\n",
    "fig, ax = plt.subplots(subplot_kw=dict(projection='3d'), figsize=(10, 10))\n",
    "ax.view_init(30, 60)\n",
    "ax.set_xlabel(\"Treads\", fontsize = 20)\n",
    "ax.set_ylabel(\"Size of matrix\", fontsize = 20)\n",
    "ax.set_zlabel(\"Time[sec]\", fontsize = 20)\n",
    "\n",
    "ls = LightSource(270, 45)\n",
    "rgb = ls.shade(z, cmap=cm.gist_earth, vert_exag=0.1, blend_mode='soft')\n",
    "surf = ax.plot_surface(size, threads, times, rstride=1, cstride=1, facecolors=rgb,\n",
    "                       linewidth=0, antialiased=False, shade=False)\n",
    "\n",
    "plt.show()"
   ]
  },
  {
   "cell_type": "code",
   "execution_count": 24,
   "id": "f4b2f2d5",
   "metadata": {},
   "outputs": [],
   "source": [
    "import plotly.graph_objects as go"
   ]
  },
  {
   "cell_type": "code",
   "execution_count": 349,
   "id": "d16bdeb7",
   "metadata": {},
   "outputs": [
    {
     "data": {
      "application/vnd.plotly.v1+json": {
       "config": {
        "plotlyServerURL": "https://plot.ly"
       },
       "data": [
        {
         "type": "surface",
         "x": [
          [
           1,
           2,
           3,
           4,
           5,
           6,
           7,
           8,
           9,
           10
          ],
          [
           1,
           2,
           3,
           4,
           5,
           6,
           7,
           8,
           9,
           10
          ],
          [
           1,
           2,
           3,
           4,
           5,
           6,
           7,
           8,
           9,
           10
          ],
          [
           1,
           2,
           3,
           4,
           5,
           6,
           7,
           8,
           9,
           10
          ],
          [
           1,
           2,
           3,
           4,
           5,
           6,
           7,
           8,
           9,
           10
          ],
          [
           1,
           2,
           3,
           4,
           5,
           6,
           7,
           8,
           9,
           10
          ],
          [
           1,
           2,
           3,
           4,
           5,
           6,
           7,
           8,
           9,
           10
          ],
          [
           1,
           2,
           3,
           4,
           5,
           6,
           7,
           8,
           9,
           10
          ],
          [
           1,
           2,
           3,
           4,
           5,
           6,
           7,
           8,
           9,
           10
          ],
          [
           1,
           2,
           3,
           4,
           5,
           6,
           7,
           8,
           9,
           10
          ],
          [
           1,
           2,
           3,
           4,
           5,
           6,
           7,
           8,
           9,
           10
          ],
          [
           1,
           2,
           3,
           4,
           5,
           6,
           7,
           8,
           9,
           10
          ],
          [
           1,
           2,
           3,
           4,
           5,
           6,
           7,
           8,
           9,
           10
          ],
          [
           1,
           2,
           3,
           4,
           5,
           6,
           7,
           8,
           9,
           10
          ],
          [
           1,
           2,
           3,
           4,
           5,
           6,
           7,
           8,
           9,
           10
          ],
          [
           1,
           2,
           3,
           4,
           5,
           6,
           7,
           8,
           9,
           10
          ],
          [
           1,
           2,
           3,
           4,
           5,
           6,
           7,
           8,
           9,
           10
          ],
          [
           1,
           2,
           3,
           4,
           5,
           6,
           7,
           8,
           9,
           10
          ],
          [
           1,
           2,
           3,
           4,
           5,
           6,
           7,
           8,
           9,
           10
          ],
          [
           1,
           2,
           3,
           4,
           5,
           6,
           7,
           8,
           9,
           10
          ]
         ],
         "y": [
          [
           1000,
           1000,
           1000,
           1000,
           1000,
           1000,
           1000,
           1000,
           1000,
           1000
          ],
          [
           2000,
           2000,
           2000,
           2000,
           2000,
           2000,
           2000,
           2000,
           2000,
           2000
          ],
          [
           3000,
           3000,
           3000,
           3000,
           3000,
           3000,
           3000,
           3000,
           3000,
           3000
          ],
          [
           4000,
           4000,
           4000,
           4000,
           4000,
           4000,
           4000,
           4000,
           4000,
           4000
          ],
          [
           5000,
           5000,
           5000,
           5000,
           5000,
           5000,
           5000,
           5000,
           5000,
           5000
          ],
          [
           6000,
           6000,
           6000,
           6000,
           6000,
           6000,
           6000,
           6000,
           6000,
           6000
          ],
          [
           7000,
           7000,
           7000,
           7000,
           7000,
           7000,
           7000,
           7000,
           7000,
           7000
          ],
          [
           8000,
           8000,
           8000,
           8000,
           8000,
           8000,
           8000,
           8000,
           8000,
           8000
          ],
          [
           9000,
           9000,
           9000,
           9000,
           9000,
           9000,
           9000,
           9000,
           9000,
           9000
          ],
          [
           10000,
           10000,
           10000,
           10000,
           10000,
           10000,
           10000,
           10000,
           10000,
           10000
          ],
          [
           11000,
           11000,
           11000,
           11000,
           11000,
           11000,
           11000,
           11000,
           11000,
           11000
          ],
          [
           12000,
           12000,
           12000,
           12000,
           12000,
           12000,
           12000,
           12000,
           12000,
           12000
          ],
          [
           13000,
           13000,
           13000,
           13000,
           13000,
           13000,
           13000,
           13000,
           13000,
           13000
          ],
          [
           14000,
           14000,
           14000,
           14000,
           14000,
           14000,
           14000,
           14000,
           14000,
           14000
          ],
          [
           15000,
           15000,
           15000,
           15000,
           15000,
           15000,
           15000,
           15000,
           15000,
           15000
          ],
          [
           16000,
           16000,
           16000,
           16000,
           16000,
           16000,
           16000,
           16000,
           16000,
           16000
          ],
          [
           17000,
           17000,
           17000,
           17000,
           17000,
           17000,
           17000,
           17000,
           17000,
           17000
          ],
          [
           18000,
           18000,
           18000,
           18000,
           18000,
           18000,
           18000,
           18000,
           18000,
           18000
          ],
          [
           19000,
           19000,
           19000,
           19000,
           19000,
           19000,
           19000,
           19000,
           19000,
           19000
          ],
          [
           20000,
           20000,
           20000,
           20000,
           20000,
           20000,
           20000,
           20000,
           20000,
           20000
          ]
         ],
         "z": [
          [
           0.009565595031832344,
           0.005473868315923028,
           0.004254765080288053,
           0.003813114014337771,
           0.003582568264100701,
           0.003314853566000238,
           0.003205127116991207,
           0.003097318953019567,
           0.003043513272656128,
           0.0029603646211326124
          ],
          [
           0.03563783295103349,
           0.01912638684397098,
           0.01420735004695598,
           0.012479711804771795,
           0.010890121084754355,
           0.010311670725001023,
           0.009727445418131538,
           0.00909954203874804,
           0.008846545276930556,
           0.009111920739174821
          ],
          [
           0.08005190387135372,
           0.04190825557918288,
           0.03049566626898013,
           0.026248576937941838,
           0.025158113141078502,
           0.022400672901421788,
           0.02201923984917812,
           0.02006990186870098,
           0.019721946375095285,
           0.019944220661418512
          ],
          [
           0.12376519598066807,
           0.06368891303078271,
           0.04513947771047242,
           0.041158219452481715,
           0.03770605957135558,
           0.034239336010068656,
           0.033115313688758766,
           0.03132619304349646,
           0.030843307968461887,
           0.03010816126014106
          ],
          [
           0.19323434444959275,
           0.09935260360245593,
           0.070374908328522,
           0.06311645111767575,
           0.05676137419999577,
           0.052517314952565355,
           0.05213092971011065,
           0.04914369054953568,
           0.04774845394073054,
           0.047417260808870196
          ],
          [
           0.2778816720936447,
           0.14228062113164924,
           0.09987074194010347,
           0.09032702470663935,
           0.07962009742041118,
           0.07386313439812511,
           0.07552716749138198,
           0.07088232437032274,
           0.06853792408248409,
           0.06805659177829512
          ],
          [
           0.37741483029676604,
           0.19289379351539537,
           0.13617323977989143,
           0.12014712868956849,
           0.10702861670986749,
           0.10126863089040854,
           0.10222551829065196,
           0.0965991163207218,
           0.09371429877937772,
           0.09239264913951048
          ],
          [
           0.5667310793884098,
           0.2911308266222477,
           0.2003686915151775,
           0.17586928635137156,
           0.15541340606869197,
           0.14834683853085154,
           0.15211341514019297,
           0.143636063861195,
           0.13979996444075368,
           0.13775521311908961
          ],
          [
           0.7158631590078585,
           0.3667547714780085,
           0.2599496037932113,
           0.21761040710844098,
           0.1955907888384536,
           0.18764661264023744,
           0.1911460532003548,
           0.18230472684022972,
           0.17661906992783769,
           0.17328793563880027
          ],
          [
           0.7752744063967839,
           0.39893087779637426,
           0.2731153091881424,
           0.2380190103664063,
           0.20284530399367212,
           0.20193278365884906,
           0.205724357906729,
           0.19581238357699476,
           0.19091476381290703,
           0.18761439153924583
          ],
          [
           0.9353193254093639,
           0.47678538820473476,
           0.34677176841069013,
           0.281191712920554,
           0.245765184587799,
           0.24746502899797634,
           0.2492214813013561,
           0.24000386998523027,
           0.22804227727465332,
           0.22668017820687963
          ],
          [
           1.1121443311916663,
           0.5710673272958957,
           0.4013790708035231,
           0.3391600820235908,
           0.2944578180788085,
           0.2958553929347545,
           0.2999319125781767,
           0.2806982244946994,
           0.272970112983603,
           0.2666286614839919
          ],
          [
           1.3051317716017365,
           0.6690693833166733,
           0.4669191343942657,
           0.3936014804756269,
           0.3533794118091464,
           0.3409852309036069,
           0.3469808100955561,
           0.33197174470406027,
           0.31944085117429494,
           0.31325137841049583
          ],
          [
           1.7309295318205842,
           0.8800795751740225,
           0.610061629791744,
           0.5180971845868043,
           0.4674283053027466,
           0.45115768889663743,
           0.4621870898990892,
           0.4390740290982649,
           0.4240404023090377,
           0.418818089494016
          ],
          [
           1.7419737773016095,
           0.8895924204378389,
           0.6209600335918367,
           0.5189553369884379,
           0.4652487847022712,
           0.45380935738794503,
           0.46614108748035504,
           0.44085218271939086,
           0.4251916073029861,
           0.4228665642091073
          ],
          [
           1.696571744105313,
           0.8709858376998454,
           0.6011717904242687,
           0.5073489586240612,
           0.44776245079701765,
           0.43576524378731846,
           0.4503478464088403,
           0.42949041340034455,
           0.4162209714879282,
           0.4103040423011407
          ],
          [
           2.236341665126383,
           1.1419595750863665,
           0.7987342572072521,
           0.6660926748882048,
           0.5977436186745763,
           0.5791823789128102,
           0.5969514959142543,
           0.5685413696919568,
           0.5463754925876856,
           0.5389548633946106
          ],
          [
           2.5038794283987955,
           1.2801395904039965,
           0.889181278203614,
           0.7563348433119245,
           0.6691555645316839,
           0.6553249852964654,
           0.6686809858074412,
           0.6334934975253418,
           0.6124766232795082,
           0.6034157946938649
          ],
          [
           2.7910427904105743,
           1.4262854452244937,
           0.9976601961883717,
           0.8386193044716492,
           0.7561546372948215,
           0.7229404062964022,
           0.7395536627969704,
           0.7074723670142703,
           0.6809639062033966,
           0.6772613676032051
          ],
          [
           2.6477660395088605,
           1.3473771658842453,
           0.9316998973838053,
           0.7872902753879316,
           0.7146345964167267,
           0.6851889611920342,
           0.7072098594973795,
           0.6701440609409474,
           0.648738666716963,
           0.6387125676847063
          ]
         ]
        }
       ],
       "layout": {
        "autosize": false,
        "height": 750,
        "margin": {
         "b": 65,
         "l": 65,
         "r": 50,
         "t": 90
        },
        "scene": {
         "xaxis": {
          "title": {
           "text": "threads"
          }
         },
         "yaxis": {
          "title": {
           "text": "size of matrix"
          }
         },
         "zaxis": {
          "title": {
           "text": "Time[sec]"
          }
         }
        },
        "template": {
         "data": {
          "bar": [
           {
            "error_x": {
             "color": "#2a3f5f"
            },
            "error_y": {
             "color": "#2a3f5f"
            },
            "marker": {
             "line": {
              "color": "#E5ECF6",
              "width": 0.5
             },
             "pattern": {
              "fillmode": "overlay",
              "size": 10,
              "solidity": 0.2
             }
            },
            "type": "bar"
           }
          ],
          "barpolar": [
           {
            "marker": {
             "line": {
              "color": "#E5ECF6",
              "width": 0.5
             },
             "pattern": {
              "fillmode": "overlay",
              "size": 10,
              "solidity": 0.2
             }
            },
            "type": "barpolar"
           }
          ],
          "carpet": [
           {
            "aaxis": {
             "endlinecolor": "#2a3f5f",
             "gridcolor": "white",
             "linecolor": "white",
             "minorgridcolor": "white",
             "startlinecolor": "#2a3f5f"
            },
            "baxis": {
             "endlinecolor": "#2a3f5f",
             "gridcolor": "white",
             "linecolor": "white",
             "minorgridcolor": "white",
             "startlinecolor": "#2a3f5f"
            },
            "type": "carpet"
           }
          ],
          "choropleth": [
           {
            "colorbar": {
             "outlinewidth": 0,
             "ticks": ""
            },
            "type": "choropleth"
           }
          ],
          "contour": [
           {
            "colorbar": {
             "outlinewidth": 0,
             "ticks": ""
            },
            "colorscale": [
             [
              0,
              "#0d0887"
             ],
             [
              0.1111111111111111,
              "#46039f"
             ],
             [
              0.2222222222222222,
              "#7201a8"
             ],
             [
              0.3333333333333333,
              "#9c179e"
             ],
             [
              0.4444444444444444,
              "#bd3786"
             ],
             [
              0.5555555555555556,
              "#d8576b"
             ],
             [
              0.6666666666666666,
              "#ed7953"
             ],
             [
              0.7777777777777778,
              "#fb9f3a"
             ],
             [
              0.8888888888888888,
              "#fdca26"
             ],
             [
              1,
              "#f0f921"
             ]
            ],
            "type": "contour"
           }
          ],
          "contourcarpet": [
           {
            "colorbar": {
             "outlinewidth": 0,
             "ticks": ""
            },
            "type": "contourcarpet"
           }
          ],
          "heatmap": [
           {
            "colorbar": {
             "outlinewidth": 0,
             "ticks": ""
            },
            "colorscale": [
             [
              0,
              "#0d0887"
             ],
             [
              0.1111111111111111,
              "#46039f"
             ],
             [
              0.2222222222222222,
              "#7201a8"
             ],
             [
              0.3333333333333333,
              "#9c179e"
             ],
             [
              0.4444444444444444,
              "#bd3786"
             ],
             [
              0.5555555555555556,
              "#d8576b"
             ],
             [
              0.6666666666666666,
              "#ed7953"
             ],
             [
              0.7777777777777778,
              "#fb9f3a"
             ],
             [
              0.8888888888888888,
              "#fdca26"
             ],
             [
              1,
              "#f0f921"
             ]
            ],
            "type": "heatmap"
           }
          ],
          "heatmapgl": [
           {
            "colorbar": {
             "outlinewidth": 0,
             "ticks": ""
            },
            "colorscale": [
             [
              0,
              "#0d0887"
             ],
             [
              0.1111111111111111,
              "#46039f"
             ],
             [
              0.2222222222222222,
              "#7201a8"
             ],
             [
              0.3333333333333333,
              "#9c179e"
             ],
             [
              0.4444444444444444,
              "#bd3786"
             ],
             [
              0.5555555555555556,
              "#d8576b"
             ],
             [
              0.6666666666666666,
              "#ed7953"
             ],
             [
              0.7777777777777778,
              "#fb9f3a"
             ],
             [
              0.8888888888888888,
              "#fdca26"
             ],
             [
              1,
              "#f0f921"
             ]
            ],
            "type": "heatmapgl"
           }
          ],
          "histogram": [
           {
            "marker": {
             "pattern": {
              "fillmode": "overlay",
              "size": 10,
              "solidity": 0.2
             }
            },
            "type": "histogram"
           }
          ],
          "histogram2d": [
           {
            "colorbar": {
             "outlinewidth": 0,
             "ticks": ""
            },
            "colorscale": [
             [
              0,
              "#0d0887"
             ],
             [
              0.1111111111111111,
              "#46039f"
             ],
             [
              0.2222222222222222,
              "#7201a8"
             ],
             [
              0.3333333333333333,
              "#9c179e"
             ],
             [
              0.4444444444444444,
              "#bd3786"
             ],
             [
              0.5555555555555556,
              "#d8576b"
             ],
             [
              0.6666666666666666,
              "#ed7953"
             ],
             [
              0.7777777777777778,
              "#fb9f3a"
             ],
             [
              0.8888888888888888,
              "#fdca26"
             ],
             [
              1,
              "#f0f921"
             ]
            ],
            "type": "histogram2d"
           }
          ],
          "histogram2dcontour": [
           {
            "colorbar": {
             "outlinewidth": 0,
             "ticks": ""
            },
            "colorscale": [
             [
              0,
              "#0d0887"
             ],
             [
              0.1111111111111111,
              "#46039f"
             ],
             [
              0.2222222222222222,
              "#7201a8"
             ],
             [
              0.3333333333333333,
              "#9c179e"
             ],
             [
              0.4444444444444444,
              "#bd3786"
             ],
             [
              0.5555555555555556,
              "#d8576b"
             ],
             [
              0.6666666666666666,
              "#ed7953"
             ],
             [
              0.7777777777777778,
              "#fb9f3a"
             ],
             [
              0.8888888888888888,
              "#fdca26"
             ],
             [
              1,
              "#f0f921"
             ]
            ],
            "type": "histogram2dcontour"
           }
          ],
          "mesh3d": [
           {
            "colorbar": {
             "outlinewidth": 0,
             "ticks": ""
            },
            "type": "mesh3d"
           }
          ],
          "parcoords": [
           {
            "line": {
             "colorbar": {
              "outlinewidth": 0,
              "ticks": ""
             }
            },
            "type": "parcoords"
           }
          ],
          "pie": [
           {
            "automargin": true,
            "type": "pie"
           }
          ],
          "scatter": [
           {
            "fillpattern": {
             "fillmode": "overlay",
             "size": 10,
             "solidity": 0.2
            },
            "type": "scatter"
           }
          ],
          "scatter3d": [
           {
            "line": {
             "colorbar": {
              "outlinewidth": 0,
              "ticks": ""
             }
            },
            "marker": {
             "colorbar": {
              "outlinewidth": 0,
              "ticks": ""
             }
            },
            "type": "scatter3d"
           }
          ],
          "scattercarpet": [
           {
            "marker": {
             "colorbar": {
              "outlinewidth": 0,
              "ticks": ""
             }
            },
            "type": "scattercarpet"
           }
          ],
          "scattergeo": [
           {
            "marker": {
             "colorbar": {
              "outlinewidth": 0,
              "ticks": ""
             }
            },
            "type": "scattergeo"
           }
          ],
          "scattergl": [
           {
            "marker": {
             "colorbar": {
              "outlinewidth": 0,
              "ticks": ""
             }
            },
            "type": "scattergl"
           }
          ],
          "scattermapbox": [
           {
            "marker": {
             "colorbar": {
              "outlinewidth": 0,
              "ticks": ""
             }
            },
            "type": "scattermapbox"
           }
          ],
          "scatterpolar": [
           {
            "marker": {
             "colorbar": {
              "outlinewidth": 0,
              "ticks": ""
             }
            },
            "type": "scatterpolar"
           }
          ],
          "scatterpolargl": [
           {
            "marker": {
             "colorbar": {
              "outlinewidth": 0,
              "ticks": ""
             }
            },
            "type": "scatterpolargl"
           }
          ],
          "scatterternary": [
           {
            "marker": {
             "colorbar": {
              "outlinewidth": 0,
              "ticks": ""
             }
            },
            "type": "scatterternary"
           }
          ],
          "surface": [
           {
            "colorbar": {
             "outlinewidth": 0,
             "ticks": ""
            },
            "colorscale": [
             [
              0,
              "#0d0887"
             ],
             [
              0.1111111111111111,
              "#46039f"
             ],
             [
              0.2222222222222222,
              "#7201a8"
             ],
             [
              0.3333333333333333,
              "#9c179e"
             ],
             [
              0.4444444444444444,
              "#bd3786"
             ],
             [
              0.5555555555555556,
              "#d8576b"
             ],
             [
              0.6666666666666666,
              "#ed7953"
             ],
             [
              0.7777777777777778,
              "#fb9f3a"
             ],
             [
              0.8888888888888888,
              "#fdca26"
             ],
             [
              1,
              "#f0f921"
             ]
            ],
            "type": "surface"
           }
          ],
          "table": [
           {
            "cells": {
             "fill": {
              "color": "#EBF0F8"
             },
             "line": {
              "color": "white"
             }
            },
            "header": {
             "fill": {
              "color": "#C8D4E3"
             },
             "line": {
              "color": "white"
             }
            },
            "type": "table"
           }
          ]
         },
         "layout": {
          "annotationdefaults": {
           "arrowcolor": "#2a3f5f",
           "arrowhead": 0,
           "arrowwidth": 1
          },
          "autotypenumbers": "strict",
          "coloraxis": {
           "colorbar": {
            "outlinewidth": 0,
            "ticks": ""
           }
          },
          "colorscale": {
           "diverging": [
            [
             0,
             "#8e0152"
            ],
            [
             0.1,
             "#c51b7d"
            ],
            [
             0.2,
             "#de77ae"
            ],
            [
             0.3,
             "#f1b6da"
            ],
            [
             0.4,
             "#fde0ef"
            ],
            [
             0.5,
             "#f7f7f7"
            ],
            [
             0.6,
             "#e6f5d0"
            ],
            [
             0.7,
             "#b8e186"
            ],
            [
             0.8,
             "#7fbc41"
            ],
            [
             0.9,
             "#4d9221"
            ],
            [
             1,
             "#276419"
            ]
           ],
           "sequential": [
            [
             0,
             "#0d0887"
            ],
            [
             0.1111111111111111,
             "#46039f"
            ],
            [
             0.2222222222222222,
             "#7201a8"
            ],
            [
             0.3333333333333333,
             "#9c179e"
            ],
            [
             0.4444444444444444,
             "#bd3786"
            ],
            [
             0.5555555555555556,
             "#d8576b"
            ],
            [
             0.6666666666666666,
             "#ed7953"
            ],
            [
             0.7777777777777778,
             "#fb9f3a"
            ],
            [
             0.8888888888888888,
             "#fdca26"
            ],
            [
             1,
             "#f0f921"
            ]
           ],
           "sequentialminus": [
            [
             0,
             "#0d0887"
            ],
            [
             0.1111111111111111,
             "#46039f"
            ],
            [
             0.2222222222222222,
             "#7201a8"
            ],
            [
             0.3333333333333333,
             "#9c179e"
            ],
            [
             0.4444444444444444,
             "#bd3786"
            ],
            [
             0.5555555555555556,
             "#d8576b"
            ],
            [
             0.6666666666666666,
             "#ed7953"
            ],
            [
             0.7777777777777778,
             "#fb9f3a"
            ],
            [
             0.8888888888888888,
             "#fdca26"
            ],
            [
             1,
             "#f0f921"
            ]
           ]
          },
          "colorway": [
           "#636efa",
           "#EF553B",
           "#00cc96",
           "#ab63fa",
           "#FFA15A",
           "#19d3f3",
           "#FF6692",
           "#B6E880",
           "#FF97FF",
           "#FECB52"
          ],
          "font": {
           "color": "#2a3f5f"
          },
          "geo": {
           "bgcolor": "white",
           "lakecolor": "white",
           "landcolor": "#E5ECF6",
           "showlakes": true,
           "showland": true,
           "subunitcolor": "white"
          },
          "hoverlabel": {
           "align": "left"
          },
          "hovermode": "closest",
          "mapbox": {
           "style": "light"
          },
          "paper_bgcolor": "white",
          "plot_bgcolor": "#E5ECF6",
          "polar": {
           "angularaxis": {
            "gridcolor": "white",
            "linecolor": "white",
            "ticks": ""
           },
           "bgcolor": "#E5ECF6",
           "radialaxis": {
            "gridcolor": "white",
            "linecolor": "white",
            "ticks": ""
           }
          },
          "scene": {
           "xaxis": {
            "backgroundcolor": "#E5ECF6",
            "gridcolor": "white",
            "gridwidth": 2,
            "linecolor": "white",
            "showbackground": true,
            "ticks": "",
            "zerolinecolor": "white"
           },
           "yaxis": {
            "backgroundcolor": "#E5ECF6",
            "gridcolor": "white",
            "gridwidth": 2,
            "linecolor": "white",
            "showbackground": true,
            "ticks": "",
            "zerolinecolor": "white"
           },
           "zaxis": {
            "backgroundcolor": "#E5ECF6",
            "gridcolor": "white",
            "gridwidth": 2,
            "linecolor": "white",
            "showbackground": true,
            "ticks": "",
            "zerolinecolor": "white"
           }
          },
          "shapedefaults": {
           "line": {
            "color": "#2a3f5f"
           }
          },
          "ternary": {
           "aaxis": {
            "gridcolor": "white",
            "linecolor": "white",
            "ticks": ""
           },
           "baxis": {
            "gridcolor": "white",
            "linecolor": "white",
            "ticks": ""
           },
           "bgcolor": "#E5ECF6",
           "caxis": {
            "gridcolor": "white",
            "linecolor": "white",
            "ticks": ""
           }
          },
          "title": {
           "x": 0.05
          },
          "xaxis": {
           "automargin": true,
           "gridcolor": "white",
           "linecolor": "white",
           "ticks": "",
           "title": {
            "standoff": 15
           },
           "zerolinecolor": "white",
           "zerolinewidth": 2
          },
          "yaxis": {
           "automargin": true,
           "gridcolor": "white",
           "linecolor": "white",
           "ticks": "",
           "title": {
            "standoff": 15
           },
           "zerolinecolor": "white",
           "zerolinewidth": 2
          }
         }
        },
        "title": {
         "text": "Time consuming"
        },
        "width": 750
       }
      },
      "text/html": [
       "<div>                            <div id=\"9ac781dc-75c8-4dd4-9118-0f3b2b0f49f0\" class=\"plotly-graph-div\" style=\"height:750px; width:750px;\"></div>            <script type=\"text/javascript\">                require([\"plotly\"], function(Plotly) {                    window.PLOTLYENV=window.PLOTLYENV || {};                                    if (document.getElementById(\"9ac781dc-75c8-4dd4-9118-0f3b2b0f49f0\")) {                    Plotly.newPlot(                        \"9ac781dc-75c8-4dd4-9118-0f3b2b0f49f0\",                        [{\"x\":[[1,2,3,4,5,6,7,8,9,10],[1,2,3,4,5,6,7,8,9,10],[1,2,3,4,5,6,7,8,9,10],[1,2,3,4,5,6,7,8,9,10],[1,2,3,4,5,6,7,8,9,10],[1,2,3,4,5,6,7,8,9,10],[1,2,3,4,5,6,7,8,9,10],[1,2,3,4,5,6,7,8,9,10],[1,2,3,4,5,6,7,8,9,10],[1,2,3,4,5,6,7,8,9,10],[1,2,3,4,5,6,7,8,9,10],[1,2,3,4,5,6,7,8,9,10],[1,2,3,4,5,6,7,8,9,10],[1,2,3,4,5,6,7,8,9,10],[1,2,3,4,5,6,7,8,9,10],[1,2,3,4,5,6,7,8,9,10],[1,2,3,4,5,6,7,8,9,10],[1,2,3,4,5,6,7,8,9,10],[1,2,3,4,5,6,7,8,9,10],[1,2,3,4,5,6,7,8,9,10]],\"y\":[[1000.0,1000.0,1000.0,1000.0,1000.0,1000.0,1000.0,1000.0,1000.0,1000.0],[2000.0,2000.0,2000.0,2000.0,2000.0,2000.0,2000.0,2000.0,2000.0,2000.0],[3000.0,3000.0,3000.0,3000.0,3000.0,3000.0,3000.0,3000.0,3000.0,3000.0],[4000.0,4000.0,4000.0,4000.0,4000.0,4000.0,4000.0,4000.0,4000.0,4000.0],[5000.0,5000.0,5000.0,5000.0,5000.0,5000.0,5000.0,5000.0,5000.0,5000.0],[6000.0,6000.0,6000.0,6000.0,6000.0,6000.0,6000.0,6000.0,6000.0,6000.0],[7000.0,7000.0,7000.0,7000.0,7000.0,7000.0,7000.0,7000.0,7000.0,7000.0],[8000.0,8000.0,8000.0,8000.0,8000.0,8000.0,8000.0,8000.0,8000.0,8000.0],[9000.0,9000.0,9000.0,9000.0,9000.0,9000.0,9000.0,9000.0,9000.0,9000.0],[10000.0,10000.0,10000.0,10000.0,10000.0,10000.0,10000.0,10000.0,10000.0,10000.0],[11000.0,11000.0,11000.0,11000.0,11000.0,11000.0,11000.0,11000.0,11000.0,11000.0],[12000.0,12000.0,12000.0,12000.0,12000.0,12000.0,12000.0,12000.0,12000.0,12000.0],[13000.0,13000.0,13000.0,13000.0,13000.0,13000.0,13000.0,13000.0,13000.0,13000.0],[14000.0,14000.0,14000.0,14000.0,14000.0,14000.0,14000.0,14000.0,14000.0,14000.0],[15000.0,15000.0,15000.0,15000.0,15000.0,15000.0,15000.0,15000.0,15000.0,15000.0],[16000.0,16000.0,16000.0,16000.0,16000.0,16000.0,16000.0,16000.0,16000.0,16000.0],[17000.0,17000.0,17000.0,17000.0,17000.0,17000.0,17000.0,17000.0,17000.0,17000.0],[18000.0,18000.0,18000.0,18000.0,18000.0,18000.0,18000.0,18000.0,18000.0,18000.0],[19000.0,19000.0,19000.0,19000.0,19000.0,19000.0,19000.0,19000.0,19000.0,19000.0],[20000.0,20000.0,20000.0,20000.0,20000.0,20000.0,20000.0,20000.0,20000.0,20000.0]],\"z\":[[0.009565595031832344,0.005473868315923028,0.004254765080288053,0.003813114014337771,0.003582568264100701,0.003314853566000238,0.003205127116991207,0.003097318953019567,0.003043513272656128,0.0029603646211326124],[0.03563783295103349,0.01912638684397098,0.01420735004695598,0.012479711804771795,0.010890121084754355,0.010311670725001023,0.009727445418131538,0.00909954203874804,0.008846545276930556,0.009111920739174821],[0.08005190387135372,0.04190825557918288,0.03049566626898013,0.026248576937941838,0.025158113141078502,0.022400672901421788,0.02201923984917812,0.02006990186870098,0.019721946375095285,0.019944220661418512],[0.12376519598066807,0.06368891303078271,0.04513947771047242,0.041158219452481715,0.03770605957135558,0.034239336010068656,0.033115313688758766,0.03132619304349646,0.030843307968461887,0.03010816126014106],[0.19323434444959275,0.09935260360245593,0.070374908328522,0.06311645111767575,0.05676137419999577,0.052517314952565355,0.05213092971011065,0.04914369054953568,0.04774845394073054,0.047417260808870196],[0.2778816720936447,0.14228062113164924,0.09987074194010347,0.09032702470663935,0.07962009742041118,0.07386313439812511,0.07552716749138198,0.07088232437032274,0.06853792408248409,0.06805659177829512],[0.37741483029676604,0.19289379351539537,0.13617323977989143,0.12014712868956849,0.10702861670986749,0.10126863089040854,0.10222551829065196,0.0965991163207218,0.09371429877937772,0.09239264913951048],[0.5667310793884098,0.2911308266222477,0.2003686915151775,0.17586928635137156,0.15541340606869197,0.14834683853085154,0.15211341514019297,0.143636063861195,0.13979996444075368,0.13775521311908961],[0.7158631590078585,0.3667547714780085,0.2599496037932113,0.21761040710844098,0.1955907888384536,0.18764661264023744,0.1911460532003548,0.18230472684022972,0.17661906992783769,0.17328793563880027],[0.7752744063967839,0.39893087779637426,0.2731153091881424,0.2380190103664063,0.20284530399367212,0.20193278365884906,0.205724357906729,0.19581238357699476,0.19091476381290703,0.18761439153924583],[0.9353193254093639,0.47678538820473476,0.34677176841069013,0.281191712920554,0.245765184587799,0.24746502899797634,0.2492214813013561,0.24000386998523027,0.22804227727465332,0.22668017820687963],[1.1121443311916663,0.5710673272958957,0.4013790708035231,0.3391600820235908,0.2944578180788085,0.2958553929347545,0.2999319125781767,0.2806982244946994,0.272970112983603,0.2666286614839919],[1.3051317716017365,0.6690693833166733,0.4669191343942657,0.3936014804756269,0.3533794118091464,0.3409852309036069,0.3469808100955561,0.33197174470406027,0.31944085117429494,0.31325137841049583],[1.7309295318205842,0.8800795751740225,0.610061629791744,0.5180971845868043,0.4674283053027466,0.45115768889663743,0.4621870898990892,0.4390740290982649,0.4240404023090377,0.418818089494016],[1.7419737773016095,0.8895924204378389,0.6209600335918367,0.5189553369884379,0.4652487847022712,0.45380935738794503,0.46614108748035504,0.44085218271939086,0.4251916073029861,0.4228665642091073],[1.696571744105313,0.8709858376998454,0.6011717904242687,0.5073489586240612,0.44776245079701765,0.43576524378731846,0.4503478464088403,0.42949041340034455,0.4162209714879282,0.4103040423011407],[2.236341665126383,1.1419595750863665,0.7987342572072521,0.6660926748882048,0.5977436186745763,0.5791823789128102,0.5969514959142543,0.5685413696919568,0.5463754925876856,0.5389548633946106],[2.5038794283987955,1.2801395904039965,0.889181278203614,0.7563348433119245,0.6691555645316839,0.6553249852964654,0.6686809858074412,0.6334934975253418,0.6124766232795082,0.6034157946938649],[2.7910427904105743,1.4262854452244937,0.9976601961883717,0.8386193044716492,0.7561546372948215,0.7229404062964022,0.7395536627969704,0.7074723670142703,0.6809639062033966,0.6772613676032051],[2.6477660395088605,1.3473771658842453,0.9316998973838053,0.7872902753879316,0.7146345964167267,0.6851889611920342,0.7072098594973795,0.6701440609409474,0.648738666716963,0.6387125676847063]],\"type\":\"surface\"}],                        {\"template\":{\"data\":{\"histogram2dcontour\":[{\"type\":\"histogram2dcontour\",\"colorbar\":{\"outlinewidth\":0,\"ticks\":\"\"},\"colorscale\":[[0.0,\"#0d0887\"],[0.1111111111111111,\"#46039f\"],[0.2222222222222222,\"#7201a8\"],[0.3333333333333333,\"#9c179e\"],[0.4444444444444444,\"#bd3786\"],[0.5555555555555556,\"#d8576b\"],[0.6666666666666666,\"#ed7953\"],[0.7777777777777778,\"#fb9f3a\"],[0.8888888888888888,\"#fdca26\"],[1.0,\"#f0f921\"]]}],\"choropleth\":[{\"type\":\"choropleth\",\"colorbar\":{\"outlinewidth\":0,\"ticks\":\"\"}}],\"histogram2d\":[{\"type\":\"histogram2d\",\"colorbar\":{\"outlinewidth\":0,\"ticks\":\"\"},\"colorscale\":[[0.0,\"#0d0887\"],[0.1111111111111111,\"#46039f\"],[0.2222222222222222,\"#7201a8\"],[0.3333333333333333,\"#9c179e\"],[0.4444444444444444,\"#bd3786\"],[0.5555555555555556,\"#d8576b\"],[0.6666666666666666,\"#ed7953\"],[0.7777777777777778,\"#fb9f3a\"],[0.8888888888888888,\"#fdca26\"],[1.0,\"#f0f921\"]]}],\"heatmap\":[{\"type\":\"heatmap\",\"colorbar\":{\"outlinewidth\":0,\"ticks\":\"\"},\"colorscale\":[[0.0,\"#0d0887\"],[0.1111111111111111,\"#46039f\"],[0.2222222222222222,\"#7201a8\"],[0.3333333333333333,\"#9c179e\"],[0.4444444444444444,\"#bd3786\"],[0.5555555555555556,\"#d8576b\"],[0.6666666666666666,\"#ed7953\"],[0.7777777777777778,\"#fb9f3a\"],[0.8888888888888888,\"#fdca26\"],[1.0,\"#f0f921\"]]}],\"heatmapgl\":[{\"type\":\"heatmapgl\",\"colorbar\":{\"outlinewidth\":0,\"ticks\":\"\"},\"colorscale\":[[0.0,\"#0d0887\"],[0.1111111111111111,\"#46039f\"],[0.2222222222222222,\"#7201a8\"],[0.3333333333333333,\"#9c179e\"],[0.4444444444444444,\"#bd3786\"],[0.5555555555555556,\"#d8576b\"],[0.6666666666666666,\"#ed7953\"],[0.7777777777777778,\"#fb9f3a\"],[0.8888888888888888,\"#fdca26\"],[1.0,\"#f0f921\"]]}],\"contourcarpet\":[{\"type\":\"contourcarpet\",\"colorbar\":{\"outlinewidth\":0,\"ticks\":\"\"}}],\"contour\":[{\"type\":\"contour\",\"colorbar\":{\"outlinewidth\":0,\"ticks\":\"\"},\"colorscale\":[[0.0,\"#0d0887\"],[0.1111111111111111,\"#46039f\"],[0.2222222222222222,\"#7201a8\"],[0.3333333333333333,\"#9c179e\"],[0.4444444444444444,\"#bd3786\"],[0.5555555555555556,\"#d8576b\"],[0.6666666666666666,\"#ed7953\"],[0.7777777777777778,\"#fb9f3a\"],[0.8888888888888888,\"#fdca26\"],[1.0,\"#f0f921\"]]}],\"surface\":[{\"type\":\"surface\",\"colorbar\":{\"outlinewidth\":0,\"ticks\":\"\"},\"colorscale\":[[0.0,\"#0d0887\"],[0.1111111111111111,\"#46039f\"],[0.2222222222222222,\"#7201a8\"],[0.3333333333333333,\"#9c179e\"],[0.4444444444444444,\"#bd3786\"],[0.5555555555555556,\"#d8576b\"],[0.6666666666666666,\"#ed7953\"],[0.7777777777777778,\"#fb9f3a\"],[0.8888888888888888,\"#fdca26\"],[1.0,\"#f0f921\"]]}],\"mesh3d\":[{\"type\":\"mesh3d\",\"colorbar\":{\"outlinewidth\":0,\"ticks\":\"\"}}],\"scatter\":[{\"fillpattern\":{\"fillmode\":\"overlay\",\"size\":10,\"solidity\":0.2},\"type\":\"scatter\"}],\"parcoords\":[{\"type\":\"parcoords\",\"line\":{\"colorbar\":{\"outlinewidth\":0,\"ticks\":\"\"}}}],\"scatterpolargl\":[{\"type\":\"scatterpolargl\",\"marker\":{\"colorbar\":{\"outlinewidth\":0,\"ticks\":\"\"}}}],\"bar\":[{\"error_x\":{\"color\":\"#2a3f5f\"},\"error_y\":{\"color\":\"#2a3f5f\"},\"marker\":{\"line\":{\"color\":\"#E5ECF6\",\"width\":0.5},\"pattern\":{\"fillmode\":\"overlay\",\"size\":10,\"solidity\":0.2}},\"type\":\"bar\"}],\"scattergeo\":[{\"type\":\"scattergeo\",\"marker\":{\"colorbar\":{\"outlinewidth\":0,\"ticks\":\"\"}}}],\"scatterpolar\":[{\"type\":\"scatterpolar\",\"marker\":{\"colorbar\":{\"outlinewidth\":0,\"ticks\":\"\"}}}],\"histogram\":[{\"marker\":{\"pattern\":{\"fillmode\":\"overlay\",\"size\":10,\"solidity\":0.2}},\"type\":\"histogram\"}],\"scattergl\":[{\"type\":\"scattergl\",\"marker\":{\"colorbar\":{\"outlinewidth\":0,\"ticks\":\"\"}}}],\"scatter3d\":[{\"type\":\"scatter3d\",\"line\":{\"colorbar\":{\"outlinewidth\":0,\"ticks\":\"\"}},\"marker\":{\"colorbar\":{\"outlinewidth\":0,\"ticks\":\"\"}}}],\"scattermapbox\":[{\"type\":\"scattermapbox\",\"marker\":{\"colorbar\":{\"outlinewidth\":0,\"ticks\":\"\"}}}],\"scatterternary\":[{\"type\":\"scatterternary\",\"marker\":{\"colorbar\":{\"outlinewidth\":0,\"ticks\":\"\"}}}],\"scattercarpet\":[{\"type\":\"scattercarpet\",\"marker\":{\"colorbar\":{\"outlinewidth\":0,\"ticks\":\"\"}}}],\"carpet\":[{\"aaxis\":{\"endlinecolor\":\"#2a3f5f\",\"gridcolor\":\"white\",\"linecolor\":\"white\",\"minorgridcolor\":\"white\",\"startlinecolor\":\"#2a3f5f\"},\"baxis\":{\"endlinecolor\":\"#2a3f5f\",\"gridcolor\":\"white\",\"linecolor\":\"white\",\"minorgridcolor\":\"white\",\"startlinecolor\":\"#2a3f5f\"},\"type\":\"carpet\"}],\"table\":[{\"cells\":{\"fill\":{\"color\":\"#EBF0F8\"},\"line\":{\"color\":\"white\"}},\"header\":{\"fill\":{\"color\":\"#C8D4E3\"},\"line\":{\"color\":\"white\"}},\"type\":\"table\"}],\"barpolar\":[{\"marker\":{\"line\":{\"color\":\"#E5ECF6\",\"width\":0.5},\"pattern\":{\"fillmode\":\"overlay\",\"size\":10,\"solidity\":0.2}},\"type\":\"barpolar\"}],\"pie\":[{\"automargin\":true,\"type\":\"pie\"}]},\"layout\":{\"autotypenumbers\":\"strict\",\"colorway\":[\"#636efa\",\"#EF553B\",\"#00cc96\",\"#ab63fa\",\"#FFA15A\",\"#19d3f3\",\"#FF6692\",\"#B6E880\",\"#FF97FF\",\"#FECB52\"],\"font\":{\"color\":\"#2a3f5f\"},\"hovermode\":\"closest\",\"hoverlabel\":{\"align\":\"left\"},\"paper_bgcolor\":\"white\",\"plot_bgcolor\":\"#E5ECF6\",\"polar\":{\"bgcolor\":\"#E5ECF6\",\"angularaxis\":{\"gridcolor\":\"white\",\"linecolor\":\"white\",\"ticks\":\"\"},\"radialaxis\":{\"gridcolor\":\"white\",\"linecolor\":\"white\",\"ticks\":\"\"}},\"ternary\":{\"bgcolor\":\"#E5ECF6\",\"aaxis\":{\"gridcolor\":\"white\",\"linecolor\":\"white\",\"ticks\":\"\"},\"baxis\":{\"gridcolor\":\"white\",\"linecolor\":\"white\",\"ticks\":\"\"},\"caxis\":{\"gridcolor\":\"white\",\"linecolor\":\"white\",\"ticks\":\"\"}},\"coloraxis\":{\"colorbar\":{\"outlinewidth\":0,\"ticks\":\"\"}},\"colorscale\":{\"sequential\":[[0.0,\"#0d0887\"],[0.1111111111111111,\"#46039f\"],[0.2222222222222222,\"#7201a8\"],[0.3333333333333333,\"#9c179e\"],[0.4444444444444444,\"#bd3786\"],[0.5555555555555556,\"#d8576b\"],[0.6666666666666666,\"#ed7953\"],[0.7777777777777778,\"#fb9f3a\"],[0.8888888888888888,\"#fdca26\"],[1.0,\"#f0f921\"]],\"sequentialminus\":[[0.0,\"#0d0887\"],[0.1111111111111111,\"#46039f\"],[0.2222222222222222,\"#7201a8\"],[0.3333333333333333,\"#9c179e\"],[0.4444444444444444,\"#bd3786\"],[0.5555555555555556,\"#d8576b\"],[0.6666666666666666,\"#ed7953\"],[0.7777777777777778,\"#fb9f3a\"],[0.8888888888888888,\"#fdca26\"],[1.0,\"#f0f921\"]],\"diverging\":[[0,\"#8e0152\"],[0.1,\"#c51b7d\"],[0.2,\"#de77ae\"],[0.3,\"#f1b6da\"],[0.4,\"#fde0ef\"],[0.5,\"#f7f7f7\"],[0.6,\"#e6f5d0\"],[0.7,\"#b8e186\"],[0.8,\"#7fbc41\"],[0.9,\"#4d9221\"],[1,\"#276419\"]]},\"xaxis\":{\"gridcolor\":\"white\",\"linecolor\":\"white\",\"ticks\":\"\",\"title\":{\"standoff\":15},\"zerolinecolor\":\"white\",\"automargin\":true,\"zerolinewidth\":2},\"yaxis\":{\"gridcolor\":\"white\",\"linecolor\":\"white\",\"ticks\":\"\",\"title\":{\"standoff\":15},\"zerolinecolor\":\"white\",\"automargin\":true,\"zerolinewidth\":2},\"scene\":{\"xaxis\":{\"backgroundcolor\":\"#E5ECF6\",\"gridcolor\":\"white\",\"linecolor\":\"white\",\"showbackground\":true,\"ticks\":\"\",\"zerolinecolor\":\"white\",\"gridwidth\":2},\"yaxis\":{\"backgroundcolor\":\"#E5ECF6\",\"gridcolor\":\"white\",\"linecolor\":\"white\",\"showbackground\":true,\"ticks\":\"\",\"zerolinecolor\":\"white\",\"gridwidth\":2},\"zaxis\":{\"backgroundcolor\":\"#E5ECF6\",\"gridcolor\":\"white\",\"linecolor\":\"white\",\"showbackground\":true,\"ticks\":\"\",\"zerolinecolor\":\"white\",\"gridwidth\":2}},\"shapedefaults\":{\"line\":{\"color\":\"#2a3f5f\"}},\"annotationdefaults\":{\"arrowcolor\":\"#2a3f5f\",\"arrowhead\":0,\"arrowwidth\":1},\"geo\":{\"bgcolor\":\"white\",\"landcolor\":\"#E5ECF6\",\"subunitcolor\":\"white\",\"showland\":true,\"showlakes\":true,\"lakecolor\":\"white\"},\"title\":{\"x\":0.05},\"mapbox\":{\"style\":\"light\"}}},\"margin\":{\"l\":65,\"r\":50,\"b\":65,\"t\":90},\"title\":{\"text\":\"Time consuming\"},\"autosize\":false,\"width\":750,\"height\":750,\"scene\":{\"xaxis\":{\"title\":{\"text\":\"threads\"}},\"yaxis\":{\"title\":{\"text\":\"size of matrix\"}},\"zaxis\":{\"title\":{\"text\":\"Time[sec]\"}}}},                        {\"responsive\": true}                    ).then(function(){\n",
       "                            \n",
       "var gd = document.getElementById('9ac781dc-75c8-4dd4-9118-0f3b2b0f49f0');\n",
       "var x = new MutationObserver(function (mutations, observer) {{\n",
       "        var display = window.getComputedStyle(gd).display;\n",
       "        if (!display || display === 'none') {{\n",
       "            console.log([gd, 'removed!']);\n",
       "            Plotly.purge(gd);\n",
       "            observer.disconnect();\n",
       "        }}\n",
       "}});\n",
       "\n",
       "// Listen for the removal of the full notebook cells\n",
       "var notebookContainer = gd.closest('#notebook-container');\n",
       "if (notebookContainer) {{\n",
       "    x.observe(notebookContainer, {childList: true});\n",
       "}}\n",
       "\n",
       "// Listen for the clearing of the current output cell\n",
       "var outputEl = gd.closest('.output');\n",
       "if (outputEl) {{\n",
       "    x.observe(outputEl, {childList: true});\n",
       "}}\n",
       "\n",
       "                        })                };                });            </script>        </div>"
      ]
     },
     "metadata": {},
     "output_type": "display_data"
    }
   ],
   "source": [
    "fig = go.Figure(data=[go.Surface(z=times, x=size, y=threads)])\n",
    "fig.update_layout(title='Time consuming', autosize=False,\n",
    "                  width=750, height=750,\n",
    "                  margin=dict(l=65, r=50, b=65, t=90),\n",
    "                  scene= go.Scene(\n",
    "                    xaxis=go.XAxis(title='threads'),\n",
    "                    yaxis=go.YAxis(title='size of matrix'),\n",
    "                    zaxis=go.ZAxis(title='Time[sec]')))\n",
    "fig.show()"
   ]
  },
  {
   "attachments": {
    "%D0%A1%D0%BD%D0%B8%D0%BC%D0%BE%D0%BA%20%D1%8D%D0%BA%D1%80%D0%B0%D0%BD%D0%B0%20%D0%BE%D1%82%202023-04-29%2020-24-27.png": {
     "image/png": "[encoded data removed]"
    }
   },
   "cell_type": "markdown",
   "id": "bfb5cd10",
   "metadata": {},
   "source": [
    "![%D0%A1%D0%BD%D0%B8%D0%BC%D0%BE%D0%BA%20%D1%8D%D0%BA%D1%80%D0%B0%D0%BD%D0%B0%20%D0%BE%D1%82%202023-04-29%2020-24-27.png](attachment:%D0%A1%D0%BD%D0%B8%D0%BC%D0%BE%D0%BA%20%D1%8D%D0%BA%D1%80%D0%B0%D0%BD%D0%B0%20%D0%BE%D1%82%202023-04-29%2020-24-27.png)"
   ]
  },
  {
   "cell_type": "markdown",
   "id": "74bb98a1",
   "metadata": {},
   "source": [
    "# Multi Processing"
   ]
  },
  {
   "cell_type": "code",
   "execution_count": 1,
   "id": "a3fd2d8f",
   "metadata": {},
   "outputs": [
    {
     "name": "stdout",
     "output_type": "stream",
     "text": [
      "env: OMP_NUM_THREADS=1\n"
     ]
    }
   ],
   "source": [
    "import numpy as np\n",
    "from multiprocessing import Process, Manager, Array, Pool, Pipe, cpu_count, Barrier, Queue\n",
    "import ctypes\n",
    "import time\n",
    "import os\n",
    "import gc\n",
    "from itertools import repeat\n",
    "%env OMP_NUM_THREADS=1"
   ]
  },
  {
   "cell_type": "code",
   "execution_count": 2,
   "id": "85bd4bec",
   "metadata": {},
   "outputs": [],
   "source": [
    "def simple_matvec(A, z_vec_shared, r_vec_shared, n,  i1, i2, task_queue, feedback_queue, stop): # A * r_vec = z_vec\n",
    "    z_vec = np.frombuffer(z_vec_shared, dtype=np.float64)\n",
    "    r_vec = np.frombuffer(r_vec_shared, dtype=np.float64)\n",
    "    while True:\n",
    "        task = task_queue.get() # ожидание задания\n",
    "        if (task == 2):\n",
    "            break\n",
    "        z_vec[i1:i2] = 0\n",
    "        for i in range(i1, i2):\n",
    "            for j in range(n):\n",
    "                z_vec[i] += A[i][j] * r_vec[j]\n",
    "        feedback_queue.put(1)\n",
    "        stop.wait() # ждём другие процессы\n",
    "\n",
    "def SG(A, b, x_0, eps, num_proc, verbose = True):\n",
    "    n = b.size\n",
    "    block_size = n // num_proc\n",
    "    i_pos = [i * block_size for i in range(num_proc + 1)]\n",
    "    i_pos[-1] += n % num_proc\n",
    "    flag = 1 # 1 - work; 2 - end\n",
    "\n",
    "    # общая память\n",
    "    z_vec_shared = Array(ctypes.c_double, n, lock=False)\n",
    "    r_vec_shared = Array(ctypes.c_double, n, lock=False)\n",
    "    z_vec = np.frombuffer(z_vec_shared, dtype=np.float64)\n",
    "    r_vec = np.frombuffer(r_vec_shared, dtype=np.float64)\n",
    "\n",
    "    # создание очередей и барьера\n",
    "    task_queue = Queue()\n",
    "    feedback_queue = Queue()\n",
    "    stop = Barrier(num_proc)\n",
    "\n",
    "    # создание процесса\n",
    "    proc_list = [Process(target=simple_matvec, args=(A, z_vec_shared, r_vec_shared, n, i_pos[i], i_pos[i + 1], task_queue, feedback_queue, stop)) for i in range(len(i_pos) - 1)]\n",
    "    for proc in proc_list:\n",
    "        proc.start()\n",
    "    \n",
    "    x = x_0.copy()\n",
    "    \n",
    "    def distribution_tasks(vec):\n",
    "        np.copyto(r_vec, vec)\n",
    "        for _ in range(num_proc):\n",
    "            task_queue.put(flag)\n",
    "        check_sum = 0\n",
    "        while (check_sum < num_proc):\n",
    "            check_sum += feedback_queue.get()\n",
    "\n",
    "    distribution_tasks(x)\n",
    "    r = b - z_vec # b - A @ x\n",
    "    r0 = np.linalg.norm(r)\n",
    "    p = r\n",
    "    tmp = np.zeros(n)\n",
    "    for i in range(1, n + 1):\n",
    "        if (i % 15 == 0):\n",
    "            distribution_tasks(x)\n",
    "            r = b - z_vec # b - A @ x\n",
    "        alpha = np.inner(r, r)\n",
    "        beta = 1 / alpha\n",
    "        distribution_tasks(p)\n",
    "        tmp = z_vec #A @ p\n",
    "        alpha /= np.inner(tmp, p)\n",
    "        r -= alpha * tmp\n",
    "        x += alpha * p\n",
    "        if verbose:\n",
    "            print(f\"падение невязки на {i}) шаге: \", np.linalg.norm(r) / r0)\n",
    "        if (np.linalg.norm(r) / r0 < eps):\n",
    "            flag = 2\n",
    "            task_queue.put(flag)\n",
    "            if verbose:\n",
    "                print(f\"EPS {np.linalg.norm(r) / r0}\")\n",
    "                print(f\"{i} iterations\")\n",
    "            break\n",
    "        beta *= np.inner(r, r)\n",
    "        p = beta * p + r\n",
    "    else:\n",
    "        if verbose:\n",
    "            print(f\"EPS {np.linalg.norm(r) / r0}\")\n",
    "            print(\"Full iterations\")\n",
    "\n",
    "    flag = 2\n",
    "    for _ in range(num_proc):\n",
    "        task_queue.put(flag)\n",
    "    for proc in proc_list:\n",
    "        proc.kill()\n",
    "    task_queue.close()\n",
    "    feedback_queue.close()"
   ]
  },
  {
   "cell_type": "code",
   "execution_count": 3,
   "id": "047ff468-7fcd-45f1-9398-736efda2672b",
   "metadata": {},
   "outputs": [],
   "source": [
    "n = 1250\n",
    "eps = 1e-8\n",
    "A = np.random.rand(n, n)\n",
    "A = (A + A.T) / 2\n",
    "for i in range(n):\n",
    "    A[i, i] = A[i, :].sum()\n",
    "x_sol = np.random.rand(n)\n",
    "b = A @ x_sol\n",
    "x_0 = np.random.rand(n)"
   ]
  },
  {
   "cell_type": "code",
   "execution_count": 4,
   "id": "ff8798a2",
   "metadata": {},
   "outputs": [
    {
     "name": "stdout",
     "output_type": "stream",
     "text": [
      "падение невязки на 1) шаге:  0.0162279959196471\n",
      "падение невязки на 2) шаге:  0.0014343287327076017\n",
      "падение невязки на 3) шаге:  0.0001938616130964827\n",
      "падение невязки на 4) шаге:  2.6879976764745845e-06\n",
      "падение невязки на 5) шаге:  5.989581191489012e-08\n",
      "падение невязки на 6) шаге:  2.946661257923178e-09\n",
      "EPS 2.946661257923178e-09\n",
      "6 iterations\n",
      "CPU times: user 30.4 ms, sys: 41.6 ms, total: 71.9 ms\n",
      "Wall time: 1.73 s\n"
     ]
    }
   ],
   "source": [
    "%%time\n",
    "SG(A, b, x_0, eps, 10)"
   ]
  },
  {
   "cell_type": "markdown",
   "id": "195f307a",
   "metadata": {},
   "source": [
    "# Анализ результатов"
   ]
  },
  {
   "cell_type": "code",
   "execution_count": 5,
   "id": "9ca6d992",
   "metadata": {},
   "outputs": [],
   "source": [
    "times = []"
   ]
  },
  {
   "cell_type": "code",
   "execution_count": 6,
   "id": "11e0c1d6",
   "metadata": {},
   "outputs": [
    {
     "name": "stdout",
     "output_type": "stream",
     "text": [
      "Size:100.0, Process: 1\n",
      "Size:100.0, Process: 2\n",
      "Size:100.0, Process: 3\n",
      "Size:100.0, Process: 4\n",
      "Size:100.0, Process: 5\n",
      "Size:100.0, Process: 6\n",
      "Size:100.0, Process: 7\n",
      "Size:100.0, Process: 8\n",
      "Size:100.0, Process: 9\n",
      "Size:100.0, Process: 10\n",
      "Size:644.4444444444445, Process: 1\n",
      "Size:644.4444444444445, Process: 2\n",
      "Size:644.4444444444445, Process: 3\n",
      "Size:644.4444444444445, Process: 4\n",
      "Size:644.4444444444445, Process: 5\n",
      "Size:644.4444444444445, Process: 6\n",
      "Size:644.4444444444445, Process: 7\n",
      "Size:644.4444444444445, Process: 8\n",
      "Size:644.4444444444445, Process: 9\n",
      "Size:644.4444444444445, Process: 10\n",
      "Size:1188.888888888889, Process: 1\n",
      "Size:1188.888888888889, Process: 2\n",
      "Size:1188.888888888889, Process: 3\n",
      "Size:1188.888888888889, Process: 4\n",
      "Size:1188.888888888889, Process: 5\n",
      "Size:1188.888888888889, Process: 6\n",
      "Size:1188.888888888889, Process: 7\n",
      "Size:1188.888888888889, Process: 8\n",
      "Size:1188.888888888889, Process: 9\n",
      "Size:1188.888888888889, Process: 10\n",
      "Size:1733.3333333333335, Process: 1\n",
      "Size:1733.3333333333335, Process: 2\n",
      "Size:1733.3333333333335, Process: 3\n",
      "Size:1733.3333333333335, Process: 4\n",
      "Size:1733.3333333333335, Process: 5\n",
      "Size:1733.3333333333335, Process: 6\n",
      "Size:1733.3333333333335, Process: 7\n",
      "Size:1733.3333333333335, Process: 8\n",
      "Size:1733.3333333333335, Process: 9\n",
      "Size:1733.3333333333335, Process: 10\n",
      "Size:2277.777777777778, Process: 1\n",
      "Size:2277.777777777778, Process: 2\n",
      "Size:2277.777777777778, Process: 3\n",
      "Size:2277.777777777778, Process: 4\n",
      "Size:2277.777777777778, Process: 5\n",
      "Size:2277.777777777778, Process: 6\n",
      "Size:2277.777777777778, Process: 7\n",
      "Size:2277.777777777778, Process: 8\n",
      "Size:2277.777777777778, Process: 9\n",
      "Size:2277.777777777778, Process: 10\n",
      "Size:2822.222222222222, Process: 1\n",
      "Size:2822.222222222222, Process: 2\n",
      "Size:2822.222222222222, Process: 3\n",
      "Size:2822.222222222222, Process: 4\n",
      "Size:2822.222222222222, Process: 5\n",
      "Size:2822.222222222222, Process: 6\n",
      "Size:2822.222222222222, Process: 7\n",
      "Size:2822.222222222222, Process: 8\n",
      "Size:2822.222222222222, Process: 9\n",
      "Size:2822.222222222222, Process: 10\n",
      "Size:3366.666666666667, Process: 1\n",
      "Size:3366.666666666667, Process: 2\n",
      "Size:3366.666666666667, Process: 3\n",
      "Size:3366.666666666667, Process: 4\n",
      "Size:3366.666666666667, Process: 5\n",
      "Size:3366.666666666667, Process: 6\n",
      "Size:3366.666666666667, Process: 7\n",
      "Size:3366.666666666667, Process: 8\n",
      "Size:3366.666666666667, Process: 9\n",
      "Size:3366.666666666667, Process: 10\n",
      "Size:3911.1111111111113, Process: 1\n",
      "Size:3911.1111111111113, Process: 2\n",
      "Size:3911.1111111111113, Process: 3\n",
      "Size:3911.1111111111113, Process: 4\n",
      "Size:3911.1111111111113, Process: 5\n",
      "Size:3911.1111111111113, Process: 6\n",
      "Size:3911.1111111111113, Process: 7\n",
      "Size:3911.1111111111113, Process: 8\n",
      "Size:3911.1111111111113, Process: 9\n",
      "Size:3911.1111111111113, Process: 10\n",
      "Size:4455.555555555556, Process: 1\n",
      "Size:4455.555555555556, Process: 2\n",
      "Size:4455.555555555556, Process: 3\n",
      "Size:4455.555555555556, Process: 4\n",
      "Size:4455.555555555556, Process: 5\n",
      "Size:4455.555555555556, Process: 6\n",
      "Size:4455.555555555556, Process: 7\n",
      "Size:4455.555555555556, Process: 8\n",
      "Size:4455.555555555556, Process: 9\n",
      "Size:4455.555555555556, Process: 10\n",
      "Size:5000.0, Process: 1\n",
      "Size:5000.0, Process: 2\n",
      "Size:5000.0, Process: 3\n",
      "Size:5000.0, Process: 4\n",
      "Size:5000.0, Process: 5\n",
      "Size:5000.0, Process: 6\n",
      "Size:5000.0, Process: 7\n",
      "Size:5000.0, Process: 8\n",
      "Size:5000.0, Process: 9\n",
      "Size:5000.0, Process: 10\n"
     ]
    }
   ],
   "source": [
    "eps = 1e-8\n",
    "for size in np.linspace(1e2, 5 * 1e3, 10):\n",
    "    n = int(size)\n",
    "    A = np.random.rand(n, n)\n",
    "    A = (A + A.T) / 2\n",
    "    for i in range(n):\n",
    "        A[i, i] = A[i, :].sum()\n",
    "    x_sol = np.random.rand(n)\n",
    "    b = A @ x_sol\n",
    "    x_0 = np.random.rand(n)\n",
    "    \n",
    "    for j in range(1, 11):\n",
    "        print(f\"Size:{size}, Process: {j}\")\n",
    "        details = %timeit -o -r 10 -q SG(A, b, x_0, eps, j, verbose=False)\n",
    "        times.append(details.average)\n",
    "        gc.collect()"
   ]
  },
  {
   "cell_type": "code",
   "execution_count": 7,
   "id": "92854c1f",
   "metadata": {},
   "outputs": [],
   "source": [
    "times = np.array(times).reshape(10, 10)"
   ]
  },
  {
   "cell_type": "code",
   "execution_count": 8,
   "id": "84d4fd8e",
   "metadata": {},
   "outputs": [],
   "source": [
    "size, threads = np.meshgrid(np.arange(1, 11), np.round(np.linspace(1e2, 5 * 1e3, 10)))"
   ]
  },
  {
   "cell_type": "code",
   "execution_count": 9,
   "id": "df609555",
   "metadata": {},
   "outputs": [
    {
     "data": {
      "image/png": "[encoded data removed]",
      "text/plain": [
       "<Figure size 1000x1000 with 1 Axes>"
      ]
     },
     "metadata": {},
     "output_type": "display_data"
    }
   ],
   "source": [
    "from matplotlib import cbook\n",
    "from matplotlib import cm\n",
    "from matplotlib.colors import LightSource\n",
    "import matplotlib.pyplot as plt\n",
    "import numpy as np\n",
    "\n",
    "fig, ax = plt.subplots(subplot_kw=dict(projection='3d'), figsize=(10, 10))\n",
    "ax.view_init(30, 20)\n",
    "ax.set_xlabel(\"Process\", fontsize = 20)\n",
    "ax.set_ylabel(\"Size of matrix\", fontsize = 20)\n",
    "ax.set_zlabel(\"Time[sec]\", fontsize = 20)\n",
    "\n",
    "ls = LightSource(270, 45)\n",
    "rgb = ls.shade(times, cmap=cm.gist_earth, vert_exag=0.1, blend_mode='soft')\n",
    "surf = ax.plot_surface(size, threads, times, rstride=1, cstride=1, facecolors=rgb,\n",
    "                       linewidth=0, antialiased=False, shade=False)\n",
    "\n",
    "plt.show()"
   ]
  },
  {
   "cell_type": "code",
   "execution_count": 29,
   "id": "d2abf101-7f2e-417c-a899-5cf8c679a834",
   "metadata": {},
   "outputs": [],
   "source": [
    "import plotly.graph_objects as go"
   ]
  },
  {
   "cell_type": "code",
   "execution_count": 32,
   "id": "9c6cd6a3",
   "metadata": {},
   "outputs": [
    {
     "data": {
      "application/vnd.plotly.v1+json": {
       "config": {
        "plotlyServerURL": "https://plot.ly"
       },
       "data": [
        {
         "type": "surface",
         "x": [
          [
           1,
           2,
           3,
           4,
           5,
           6,
           7,
           8,
           9,
           10
          ],
          [
           1,
           2,
           3,
           4,
           5,
           6,
           7,
           8,
           9,
           10
          ],
          [
           1,
           2,
           3,
           4,
           5,
           6,
           7,
           8,
           9,
           10
          ],
          [
           1,
           2,
           3,
           4,
           5,
           6,
           7,
           8,
           9,
           10
          ],
          [
           1,
           2,
           3,
           4,
           5,
           6,
           7,
           8,
           9,
           10
          ],
          [
           1,
           2,
           3,
           4,
           5,
           6,
           7,
           8,
           9,
           10
          ],
          [
           1,
           2,
           3,
           4,
           5,
           6,
           7,
           8,
           9,
           10
          ],
          [
           1,
           2,
           3,
           4,
           5,
           6,
           7,
           8,
           9,
           10
          ],
          [
           1,
           2,
           3,
           4,
           5,
           6,
           7,
           8,
           9,
           10
          ],
          [
           1,
           2,
           3,
           4,
           5,
           6,
           7,
           8,
           9,
           10
          ]
         ],
         "y": [
          [
           100,
           100,
           100,
           100,
           100,
           100,
           100,
           100,
           100,
           100
          ],
          [
           644,
           644,
           644,
           644,
           644,
           644,
           644,
           644,
           644,
           644
          ],
          [
           1189,
           1189,
           1189,
           1189,
           1189,
           1189,
           1189,
           1189,
           1189,
           1189
          ],
          [
           1733,
           1733,
           1733,
           1733,
           1733,
           1733,
           1733,
           1733,
           1733,
           1733
          ],
          [
           2278,
           2278,
           2278,
           2278,
           2278,
           2278,
           2278,
           2278,
           2278,
           2278
          ],
          [
           2822,
           2822,
           2822,
           2822,
           2822,
           2822,
           2822,
           2822,
           2822,
           2822
          ],
          [
           3367,
           3367,
           3367,
           3367,
           3367,
           3367,
           3367,
           3367,
           3367,
           3367
          ],
          [
           3911,
           3911,
           3911,
           3911,
           3911,
           3911,
           3911,
           3911,
           3911,
           3911
          ],
          [
           4456,
           4456,
           4456,
           4456,
           4456,
           4456,
           4456,
           4456,
           4456,
           4456
          ],
          [
           5000,
           5000,
           5000,
           5000,
           5000,
           5000,
           5000,
           5000,
           5000,
           5000
          ]
         ],
         "z": [
          [
           0.10695824833999723,
           0.0644394400100009,
           0.055462317239998817,
           0.05570778330999019,
           0.06262065325999175,
           0.06769200604998332,
           0.0718761144400014,
           0.07516451444000267,
           0.08063285894000728,
           0.08970859293000102
          ],
          [
           2.6577160722001283,
           1.281194225999934,
           0.8890709790999608,
           0.6805014498999299,
           0.5987521550001474,
           0.6592073691998849,
           0.8032749824999883,
           0.7305276644000515,
           0.663031897899873,
           0.6195552719000261
          ],
          [
           8.482552061599927,
           4.271671669999978,
           2.9159325116999755,
           2.205819041199993,
           1.8323991706000924,
           1.7079245424001783,
           2.3398229528997945,
           2.3452967755999454,
           2.127502263900078,
           1.9507544702000814
          ],
          [
           18.223474744400118,
           9.134628928199982,
           6.605846065699916,
           5.17111704730014,
           4.350532409100015,
           3.4804046616999584,
           4.622693075000006,
           4.914161504399999,
           4.494514397900002,
           4.180740483700083
          ],
          [
           30.71461101060013,
           15.766678461000264,
           11.045095049200063,
           8.553560793799898,
           7.336344687899873,
           7.591193641599967,
           7.26177022519978,
           6.677732662600102,
           6.507652203499856,
           6.079985062200194
          ],
          [
           44.62924403450006,
           23.772056387999875,
           15.773979829999917,
           11.853974137999648,
           9.910590247099572,
           9.582885575399995,
           10.772623594199649,
           9.761072271499689,
           9.124251289199856,
           9.077329642000041
          ],
          [
           54.65641774919986,
           28.450796694400378,
           20.350503124699934,
           15.882614055200065,
           11.416272596300042,
           9.65293269829981,
           12.259343371799696,
           11.094531816600101,
           10.27135814050016,
           10.692332496999734
          ],
          [
           72.67271273609967,
           36.762883414499996,
           24.669395464199805,
           18.629642963199878,
           14.926622598999893,
           12.707207612200364,
           16.58639420470008,
           14.781230828400112,
           13.778863519400147,
           14.163796189499953
          ],
          [
           92.91096136110028,
           49.92289801730003,
           32.91518755649977,
           26.287911973600057,
           21.234540544500124,
           17.286243388199544,
           21.627127737200134,
           19.315482740100197,
           17.967788851600563,
           18.642571847799264
          ],
          [
           134.63701211689914,
           69.87059963689971,
           47.20953815840003,
           35.43814035860014,
           28.046800431699374,
           24.012522695399458,
           31.151082218400187,
           27.037146115299766,
           25.064086800800215,
           26.284478736899473
          ]
         ]
        }
       ],
       "layout": {
        "autosize": false,
        "height": 750,
        "margin": {
         "b": 65,
         "l": 65,
         "r": 50,
         "t": 90
        },
        "scene": {
         "xaxis": {
          "title": {
           "text": "Process"
          }
         },
         "yaxis": {
          "title": {
           "text": "size of matrix"
          }
         },
         "zaxis": {
          "title": {
           "text": "Time[sec]"
          }
         }
        },
        "template": {
         "data": {
          "bar": [
           {
            "error_x": {
             "color": "#2a3f5f"
            },
            "error_y": {
             "color": "#2a3f5f"
            },
            "marker": {
             "line": {
              "color": "#E5ECF6",
              "width": 0.5
             },
             "pattern": {
              "fillmode": "overlay",
              "size": 10,
              "solidity": 0.2
             }
            },
            "type": "bar"
           }
          ],
          "barpolar": [
           {
            "marker": {
             "line": {
              "color": "#E5ECF6",
              "width": 0.5
             },
             "pattern": {
              "fillmode": "overlay",
              "size": 10,
              "solidity": 0.2
             }
            },
            "type": "barpolar"
           }
          ],
          "carpet": [
           {
            "aaxis": {
             "endlinecolor": "#2a3f5f",
             "gridcolor": "white",
             "linecolor": "white",
             "minorgridcolor": "white",
             "startlinecolor": "#2a3f5f"
            },
            "baxis": {
             "endlinecolor": "#2a3f5f",
             "gridcolor": "white",
             "linecolor": "white",
             "minorgridcolor": "white",
             "startlinecolor": "#2a3f5f"
            },
            "type": "carpet"
           }
          ],
          "choropleth": [
           {
            "colorbar": {
             "outlinewidth": 0,
             "ticks": ""
            },
            "type": "choropleth"
           }
          ],
          "contour": [
           {
            "colorbar": {
             "outlinewidth": 0,
             "ticks": ""
            },
            "colorscale": [
             [
              0,
              "#0d0887"
             ],
             [
              0.1111111111111111,
              "#46039f"
             ],
             [
              0.2222222222222222,
              "#7201a8"
             ],
             [
              0.3333333333333333,
              "#9c179e"
             ],
             [
              0.4444444444444444,
              "#bd3786"
             ],
             [
              0.5555555555555556,
              "#d8576b"
             ],
             [
              0.6666666666666666,
              "#ed7953"
             ],
             [
              0.7777777777777778,
              "#fb9f3a"
             ],
             [
              0.8888888888888888,
              "#fdca26"
             ],
             [
              1,
              "#f0f921"
             ]
            ],
            "type": "contour"
           }
          ],
          "contourcarpet": [
           {
            "colorbar": {
             "outlinewidth": 0,
             "ticks": ""
            },
            "type": "contourcarpet"
           }
          ],
          "heatmap": [
           {
            "colorbar": {
             "outlinewidth": 0,
             "ticks": ""
            },
            "colorscale": [
             [
              0,
              "#0d0887"
             ],
             [
              0.1111111111111111,
              "#46039f"
             ],
             [
              0.2222222222222222,
              "#7201a8"
             ],
             [
              0.3333333333333333,
              "#9c179e"
             ],
             [
              0.4444444444444444,
              "#bd3786"
             ],
             [
              0.5555555555555556,
              "#d8576b"
             ],
             [
              0.6666666666666666,
              "#ed7953"
             ],
             [
              0.7777777777777778,
              "#fb9f3a"
             ],
             [
              0.8888888888888888,
              "#fdca26"
             ],
             [
              1,
              "#f0f921"
             ]
            ],
            "type": "heatmap"
           }
          ],
          "heatmapgl": [
           {
            "colorbar": {
             "outlinewidth": 0,
             "ticks": ""
            },
            "colorscale": [
             [
              0,
              "#0d0887"
             ],
             [
              0.1111111111111111,
              "#46039f"
             ],
             [
              0.2222222222222222,
              "#7201a8"
             ],
             [
              0.3333333333333333,
              "#9c179e"
             ],
             [
              0.4444444444444444,
              "#bd3786"
             ],
             [
              0.5555555555555556,
              "#d8576b"
             ],
             [
              0.6666666666666666,
              "#ed7953"
             ],
             [
              0.7777777777777778,
              "#fb9f3a"
             ],
             [
              0.8888888888888888,
              "#fdca26"
             ],
             [
              1,
              "#f0f921"
             ]
            ],
            "type": "heatmapgl"
           }
          ],
          "histogram": [
           {
            "marker": {
             "pattern": {
              "fillmode": "overlay",
              "size": 10,
              "solidity": 0.2
             }
            },
            "type": "histogram"
           }
          ],
          "histogram2d": [
           {
            "colorbar": {
             "outlinewidth": 0,
             "ticks": ""
            },
            "colorscale": [
             [
              0,
              "#0d0887"
             ],
             [
              0.1111111111111111,
              "#46039f"
             ],
             [
              0.2222222222222222,
              "#7201a8"
             ],
             [
              0.3333333333333333,
              "#9c179e"
             ],
             [
              0.4444444444444444,
              "#bd3786"
             ],
             [
              0.5555555555555556,
              "#d8576b"
             ],
             [
              0.6666666666666666,
              "#ed7953"
             ],
             [
              0.7777777777777778,
              "#fb9f3a"
             ],
             [
              0.8888888888888888,
              "#fdca26"
             ],
             [
              1,
              "#f0f921"
             ]
            ],
            "type": "histogram2d"
           }
          ],
          "histogram2dcontour": [
           {
            "colorbar": {
             "outlinewidth": 0,
             "ticks": ""
            },
            "colorscale": [
             [
              0,
              "#0d0887"
             ],
             [
              0.1111111111111111,
              "#46039f"
             ],
             [
              0.2222222222222222,
              "#7201a8"
             ],
             [
              0.3333333333333333,
              "#9c179e"
             ],
             [
              0.4444444444444444,
              "#bd3786"
             ],
             [
              0.5555555555555556,
              "#d8576b"
             ],
             [
              0.6666666666666666,
              "#ed7953"
             ],
             [
              0.7777777777777778,
              "#fb9f3a"
             ],
             [
              0.8888888888888888,
              "#fdca26"
             ],
             [
              1,
              "#f0f921"
             ]
            ],
            "type": "histogram2dcontour"
           }
          ],
          "mesh3d": [
           {
            "colorbar": {
             "outlinewidth": 0,
             "ticks": ""
            },
            "type": "mesh3d"
           }
          ],
          "parcoords": [
           {
            "line": {
             "colorbar": {
              "outlinewidth": 0,
              "ticks": ""
             }
            },
            "type": "parcoords"
           }
          ],
          "pie": [
           {
            "automargin": true,
            "type": "pie"
           }
          ],
          "scatter": [
           {
            "fillpattern": {
             "fillmode": "overlay",
             "size": 10,
             "solidity": 0.2
            },
            "type": "scatter"
           }
          ],
          "scatter3d": [
           {
            "line": {
             "colorbar": {
              "outlinewidth": 0,
              "ticks": ""
             }
            },
            "marker": {
             "colorbar": {
              "outlinewidth": 0,
              "ticks": ""
             }
            },
            "type": "scatter3d"
           }
          ],
          "scattercarpet": [
           {
            "marker": {
             "colorbar": {
              "outlinewidth": 0,
              "ticks": ""
             }
            },
            "type": "scattercarpet"
           }
          ],
          "scattergeo": [
           {
            "marker": {
             "colorbar": {
              "outlinewidth": 0,
              "ticks": ""
             }
            },
            "type": "scattergeo"
           }
          ],
          "scattergl": [
           {
            "marker": {
             "colorbar": {
              "outlinewidth": 0,
              "ticks": ""
             }
            },
            "type": "scattergl"
           }
          ],
          "scattermapbox": [
           {
            "marker": {
             "colorbar": {
              "outlinewidth": 0,
              "ticks": ""
             }
            },
            "type": "scattermapbox"
           }
          ],
          "scatterpolar": [
           {
            "marker": {
             "colorbar": {
              "outlinewidth": 0,
              "ticks": ""
             }
            },
            "type": "scatterpolar"
           }
          ],
          "scatterpolargl": [
           {
            "marker": {
             "colorbar": {
              "outlinewidth": 0,
              "ticks": ""
             }
            },
            "type": "scatterpolargl"
           }
          ],
          "scatterternary": [
           {
            "marker": {
             "colorbar": {
              "outlinewidth": 0,
              "ticks": ""
             }
            },
            "type": "scatterternary"
           }
          ],
          "surface": [
           {
            "colorbar": {
             "outlinewidth": 0,
             "ticks": ""
            },
            "colorscale": [
             [
              0,
              "#0d0887"
             ],
             [
              0.1111111111111111,
              "#46039f"
             ],
             [
              0.2222222222222222,
              "#7201a8"
             ],
             [
              0.3333333333333333,
              "#9c179e"
             ],
             [
              0.4444444444444444,
              "#bd3786"
             ],
             [
              0.5555555555555556,
              "#d8576b"
             ],
             [
              0.6666666666666666,
              "#ed7953"
             ],
             [
              0.7777777777777778,
              "#fb9f3a"
             ],
             [
              0.8888888888888888,
              "#fdca26"
             ],
             [
              1,
              "#f0f921"
             ]
            ],
            "type": "surface"
           }
          ],
          "table": [
           {
            "cells": {
             "fill": {
              "color": "#EBF0F8"
             },
             "line": {
              "color": "white"
             }
            },
            "header": {
             "fill": {
              "color": "#C8D4E3"
             },
             "line": {
              "color": "white"
             }
            },
            "type": "table"
           }
          ]
         },
         "layout": {
          "annotationdefaults": {
           "arrowcolor": "#2a3f5f",
           "arrowhead": 0,
           "arrowwidth": 1
          },
          "autotypenumbers": "strict",
          "coloraxis": {
           "colorbar": {
            "outlinewidth": 0,
            "ticks": ""
           }
          },
          "colorscale": {
           "diverging": [
            [
             0,
             "#8e0152"
            ],
            [
             0.1,
             "#c51b7d"
            ],
            [
             0.2,
             "#de77ae"
            ],
            [
             0.3,
             "#f1b6da"
            ],
            [
             0.4,
             "#fde0ef"
            ],
            [
             0.5,
             "#f7f7f7"
            ],
            [
             0.6,
             "#e6f5d0"
            ],
            [
             0.7,
             "#b8e186"
            ],
            [
             0.8,
             "#7fbc41"
            ],
            [
             0.9,
             "#4d9221"
            ],
            [
             1,
             "#276419"
            ]
           ],
           "sequential": [
            [
             0,
             "#0d0887"
            ],
            [
             0.1111111111111111,
             "#46039f"
            ],
            [
             0.2222222222222222,
             "#7201a8"
            ],
            [
             0.3333333333333333,
             "#9c179e"
            ],
            [
             0.4444444444444444,
             "#bd3786"
            ],
            [
             0.5555555555555556,
             "#d8576b"
            ],
            [
             0.6666666666666666,
             "#ed7953"
            ],
            [
             0.7777777777777778,
             "#fb9f3a"
            ],
            [
             0.8888888888888888,
             "#fdca26"
            ],
            [
             1,
             "#f0f921"
            ]
           ],
           "sequentialminus": [
            [
             0,
             "#0d0887"
            ],
            [
             0.1111111111111111,
             "#46039f"
            ],
            [
             0.2222222222222222,
             "#7201a8"
            ],
            [
             0.3333333333333333,
             "#9c179e"
            ],
            [
             0.4444444444444444,
             "#bd3786"
            ],
            [
             0.5555555555555556,
             "#d8576b"
            ],
            [
             0.6666666666666666,
             "#ed7953"
            ],
            [
             0.7777777777777778,
             "#fb9f3a"
            ],
            [
             0.8888888888888888,
             "#fdca26"
            ],
            [
             1,
             "#f0f921"
            ]
           ]
          },
          "colorway": [
           "#636efa",
           "#EF553B",
           "#00cc96",
           "#ab63fa",
           "#FFA15A",
           "#19d3f3",
           "#FF6692",
           "#B6E880",
           "#FF97FF",
           "#FECB52"
          ],
          "font": {
           "color": "#2a3f5f"
          },
          "geo": {
           "bgcolor": "white",
           "lakecolor": "white",
           "landcolor": "#E5ECF6",
           "showlakes": true,
           "showland": true,
           "subunitcolor": "white"
          },
          "hoverlabel": {
           "align": "left"
          },
          "hovermode": "closest",
          "mapbox": {
           "style": "light"
          },
          "paper_bgcolor": "white",
          "plot_bgcolor": "#E5ECF6",
          "polar": {
           "angularaxis": {
            "gridcolor": "white",
            "linecolor": "white",
            "ticks": ""
           },
           "bgcolor": "#E5ECF6",
           "radialaxis": {
            "gridcolor": "white",
            "linecolor": "white",
            "ticks": ""
           }
          },
          "scene": {
           "xaxis": {
            "backgroundcolor": "#E5ECF6",
            "gridcolor": "white",
            "gridwidth": 2,
            "linecolor": "white",
            "showbackground": true,
            "ticks": "",
            "zerolinecolor": "white"
           },
           "yaxis": {
            "backgroundcolor": "#E5ECF6",
            "gridcolor": "white",
            "gridwidth": 2,
            "linecolor": "white",
            "showbackground": true,
            "ticks": "",
            "zerolinecolor": "white"
           },
           "zaxis": {
            "backgroundcolor": "#E5ECF6",
            "gridcolor": "white",
            "gridwidth": 2,
            "linecolor": "white",
            "showbackground": true,
            "ticks": "",
            "zerolinecolor": "white"
           }
          },
          "shapedefaults": {
           "line": {
            "color": "#2a3f5f"
           }
          },
          "ternary": {
           "aaxis": {
            "gridcolor": "white",
            "linecolor": "white",
            "ticks": ""
           },
           "baxis": {
            "gridcolor": "white",
            "linecolor": "white",
            "ticks": ""
           },
           "bgcolor": "#E5ECF6",
           "caxis": {
            "gridcolor": "white",
            "linecolor": "white",
            "ticks": ""
           }
          },
          "title": {
           "x": 0.05
          },
          "xaxis": {
           "automargin": true,
           "gridcolor": "white",
           "linecolor": "white",
           "ticks": "",
           "title": {
            "standoff": 15
           },
           "zerolinecolor": "white",
           "zerolinewidth": 2
          },
          "yaxis": {
           "automargin": true,
           "gridcolor": "white",
           "linecolor": "white",
           "ticks": "",
           "title": {
            "standoff": 15
           },
           "zerolinecolor": "white",
           "zerolinewidth": 2
          }
         }
        },
        "title": {
         "text": "Time consuming"
        },
        "width": 750
       }
      },
      "text/html": [
       "<div>                            <div id=\"1ee02d4d-e0c1-450f-b09a-6fd1db98e02d\" class=\"plotly-graph-div\" style=\"height:750px; width:750px;\"></div>            <script type=\"text/javascript\">                require([\"plotly\"], function(Plotly) {                    window.PLOTLYENV=window.PLOTLYENV || {};                                    if (document.getElementById(\"1ee02d4d-e0c1-450f-b09a-6fd1db98e02d\")) {                    Plotly.newPlot(                        \"1ee02d4d-e0c1-450f-b09a-6fd1db98e02d\",                        [{\"x\":[[1,2,3,4,5,6,7,8,9,10],[1,2,3,4,5,6,7,8,9,10],[1,2,3,4,5,6,7,8,9,10],[1,2,3,4,5,6,7,8,9,10],[1,2,3,4,5,6,7,8,9,10],[1,2,3,4,5,6,7,8,9,10],[1,2,3,4,5,6,7,8,9,10],[1,2,3,4,5,6,7,8,9,10],[1,2,3,4,5,6,7,8,9,10],[1,2,3,4,5,6,7,8,9,10]],\"y\":[[100.0,100.0,100.0,100.0,100.0,100.0,100.0,100.0,100.0,100.0],[644.0,644.0,644.0,644.0,644.0,644.0,644.0,644.0,644.0,644.0],[1189.0,1189.0,1189.0,1189.0,1189.0,1189.0,1189.0,1189.0,1189.0,1189.0],[1733.0,1733.0,1733.0,1733.0,1733.0,1733.0,1733.0,1733.0,1733.0,1733.0],[2278.0,2278.0,2278.0,2278.0,2278.0,2278.0,2278.0,2278.0,2278.0,2278.0],[2822.0,2822.0,2822.0,2822.0,2822.0,2822.0,2822.0,2822.0,2822.0,2822.0],[3367.0,3367.0,3367.0,3367.0,3367.0,3367.0,3367.0,3367.0,3367.0,3367.0],[3911.0,3911.0,3911.0,3911.0,3911.0,3911.0,3911.0,3911.0,3911.0,3911.0],[4456.0,4456.0,4456.0,4456.0,4456.0,4456.0,4456.0,4456.0,4456.0,4456.0],[5000.0,5000.0,5000.0,5000.0,5000.0,5000.0,5000.0,5000.0,5000.0,5000.0]],\"z\":[[0.10695824833999723,0.0644394400100009,0.055462317239998817,0.05570778330999019,0.06262065325999175,0.06769200604998332,0.0718761144400014,0.07516451444000267,0.08063285894000728,0.08970859293000102],[2.6577160722001283,1.281194225999934,0.8890709790999608,0.6805014498999299,0.5987521550001474,0.6592073691998849,0.8032749824999883,0.7305276644000515,0.663031897899873,0.6195552719000261],[8.482552061599927,4.271671669999978,2.9159325116999755,2.205819041199993,1.8323991706000924,1.7079245424001783,2.3398229528997945,2.3452967755999454,2.127502263900078,1.9507544702000814],[18.223474744400118,9.134628928199982,6.605846065699916,5.17111704730014,4.350532409100015,3.4804046616999584,4.622693075000006,4.914161504399999,4.494514397900002,4.180740483700083],[30.71461101060013,15.766678461000264,11.045095049200063,8.553560793799898,7.336344687899873,7.591193641599967,7.26177022519978,6.677732662600102,6.507652203499856,6.079985062200194],[44.62924403450006,23.772056387999875,15.773979829999917,11.853974137999648,9.910590247099572,9.582885575399995,10.772623594199649,9.761072271499689,9.124251289199856,9.077329642000041],[54.65641774919986,28.450796694400378,20.350503124699934,15.882614055200065,11.416272596300042,9.65293269829981,12.259343371799696,11.094531816600101,10.27135814050016,10.692332496999734],[72.67271273609967,36.762883414499996,24.669395464199805,18.629642963199878,14.926622598999893,12.707207612200364,16.58639420470008,14.781230828400112,13.778863519400147,14.163796189499953],[92.91096136110028,49.92289801730003,32.91518755649977,26.287911973600057,21.234540544500124,17.286243388199544,21.627127737200134,19.315482740100197,17.967788851600563,18.642571847799264],[134.63701211689914,69.87059963689971,47.20953815840003,35.43814035860014,28.046800431699374,24.012522695399458,31.151082218400187,27.037146115299766,25.064086800800215,26.284478736899473]],\"type\":\"surface\"}],                        {\"template\":{\"data\":{\"histogram2dcontour\":[{\"type\":\"histogram2dcontour\",\"colorbar\":{\"outlinewidth\":0,\"ticks\":\"\"},\"colorscale\":[[0.0,\"#0d0887\"],[0.1111111111111111,\"#46039f\"],[0.2222222222222222,\"#7201a8\"],[0.3333333333333333,\"#9c179e\"],[0.4444444444444444,\"#bd3786\"],[0.5555555555555556,\"#d8576b\"],[0.6666666666666666,\"#ed7953\"],[0.7777777777777778,\"#fb9f3a\"],[0.8888888888888888,\"#fdca26\"],[1.0,\"#f0f921\"]]}],\"choropleth\":[{\"type\":\"choropleth\",\"colorbar\":{\"outlinewidth\":0,\"ticks\":\"\"}}],\"histogram2d\":[{\"type\":\"histogram2d\",\"colorbar\":{\"outlinewidth\":0,\"ticks\":\"\"},\"colorscale\":[[0.0,\"#0d0887\"],[0.1111111111111111,\"#46039f\"],[0.2222222222222222,\"#7201a8\"],[0.3333333333333333,\"#9c179e\"],[0.4444444444444444,\"#bd3786\"],[0.5555555555555556,\"#d8576b\"],[0.6666666666666666,\"#ed7953\"],[0.7777777777777778,\"#fb9f3a\"],[0.8888888888888888,\"#fdca26\"],[1.0,\"#f0f921\"]]}],\"heatmap\":[{\"type\":\"heatmap\",\"colorbar\":{\"outlinewidth\":0,\"ticks\":\"\"},\"colorscale\":[[0.0,\"#0d0887\"],[0.1111111111111111,\"#46039f\"],[0.2222222222222222,\"#7201a8\"],[0.3333333333333333,\"#9c179e\"],[0.4444444444444444,\"#bd3786\"],[0.5555555555555556,\"#d8576b\"],[0.6666666666666666,\"#ed7953\"],[0.7777777777777778,\"#fb9f3a\"],[0.8888888888888888,\"#fdca26\"],[1.0,\"#f0f921\"]]}],\"heatmapgl\":[{\"type\":\"heatmapgl\",\"colorbar\":{\"outlinewidth\":0,\"ticks\":\"\"},\"colorscale\":[[0.0,\"#0d0887\"],[0.1111111111111111,\"#46039f\"],[0.2222222222222222,\"#7201a8\"],[0.3333333333333333,\"#9c179e\"],[0.4444444444444444,\"#bd3786\"],[0.5555555555555556,\"#d8576b\"],[0.6666666666666666,\"#ed7953\"],[0.7777777777777778,\"#fb9f3a\"],[0.8888888888888888,\"#fdca26\"],[1.0,\"#f0f921\"]]}],\"contourcarpet\":[{\"type\":\"contourcarpet\",\"colorbar\":{\"outlinewidth\":0,\"ticks\":\"\"}}],\"contour\":[{\"type\":\"contour\",\"colorbar\":{\"outlinewidth\":0,\"ticks\":\"\"},\"colorscale\":[[0.0,\"#0d0887\"],[0.1111111111111111,\"#46039f\"],[0.2222222222222222,\"#7201a8\"],[0.3333333333333333,\"#9c179e\"],[0.4444444444444444,\"#bd3786\"],[0.5555555555555556,\"#d8576b\"],[0.6666666666666666,\"#ed7953\"],[0.7777777777777778,\"#fb9f3a\"],[0.8888888888888888,\"#fdca26\"],[1.0,\"#f0f921\"]]}],\"surface\":[{\"type\":\"surface\",\"colorbar\":{\"outlinewidth\":0,\"ticks\":\"\"},\"colorscale\":[[0.0,\"#0d0887\"],[0.1111111111111111,\"#46039f\"],[0.2222222222222222,\"#7201a8\"],[0.3333333333333333,\"#9c179e\"],[0.4444444444444444,\"#bd3786\"],[0.5555555555555556,\"#d8576b\"],[0.6666666666666666,\"#ed7953\"],[0.7777777777777778,\"#fb9f3a\"],[0.8888888888888888,\"#fdca26\"],[1.0,\"#f0f921\"]]}],\"mesh3d\":[{\"type\":\"mesh3d\",\"colorbar\":{\"outlinewidth\":0,\"ticks\":\"\"}}],\"scatter\":[{\"fillpattern\":{\"fillmode\":\"overlay\",\"size\":10,\"solidity\":0.2},\"type\":\"scatter\"}],\"parcoords\":[{\"type\":\"parcoords\",\"line\":{\"colorbar\":{\"outlinewidth\":0,\"ticks\":\"\"}}}],\"scatterpolargl\":[{\"type\":\"scatterpolargl\",\"marker\":{\"colorbar\":{\"outlinewidth\":0,\"ticks\":\"\"}}}],\"bar\":[{\"error_x\":{\"color\":\"#2a3f5f\"},\"error_y\":{\"color\":\"#2a3f5f\"},\"marker\":{\"line\":{\"color\":\"#E5ECF6\",\"width\":0.5},\"pattern\":{\"fillmode\":\"overlay\",\"size\":10,\"solidity\":0.2}},\"type\":\"bar\"}],\"scattergeo\":[{\"type\":\"scattergeo\",\"marker\":{\"colorbar\":{\"outlinewidth\":0,\"ticks\":\"\"}}}],\"scatterpolar\":[{\"type\":\"scatterpolar\",\"marker\":{\"colorbar\":{\"outlinewidth\":0,\"ticks\":\"\"}}}],\"histogram\":[{\"marker\":{\"pattern\":{\"fillmode\":\"overlay\",\"size\":10,\"solidity\":0.2}},\"type\":\"histogram\"}],\"scattergl\":[{\"type\":\"scattergl\",\"marker\":{\"colorbar\":{\"outlinewidth\":0,\"ticks\":\"\"}}}],\"scatter3d\":[{\"type\":\"scatter3d\",\"line\":{\"colorbar\":{\"outlinewidth\":0,\"ticks\":\"\"}},\"marker\":{\"colorbar\":{\"outlinewidth\":0,\"ticks\":\"\"}}}],\"scattermapbox\":[{\"type\":\"scattermapbox\",\"marker\":{\"colorbar\":{\"outlinewidth\":0,\"ticks\":\"\"}}}],\"scatterternary\":[{\"type\":\"scatterternary\",\"marker\":{\"colorbar\":{\"outlinewidth\":0,\"ticks\":\"\"}}}],\"scattercarpet\":[{\"type\":\"scattercarpet\",\"marker\":{\"colorbar\":{\"outlinewidth\":0,\"ticks\":\"\"}}}],\"carpet\":[{\"aaxis\":{\"endlinecolor\":\"#2a3f5f\",\"gridcolor\":\"white\",\"linecolor\":\"white\",\"minorgridcolor\":\"white\",\"startlinecolor\":\"#2a3f5f\"},\"baxis\":{\"endlinecolor\":\"#2a3f5f\",\"gridcolor\":\"white\",\"linecolor\":\"white\",\"minorgridcolor\":\"white\",\"startlinecolor\":\"#2a3f5f\"},\"type\":\"carpet\"}],\"table\":[{\"cells\":{\"fill\":{\"color\":\"#EBF0F8\"},\"line\":{\"color\":\"white\"}},\"header\":{\"fill\":{\"color\":\"#C8D4E3\"},\"line\":{\"color\":\"white\"}},\"type\":\"table\"}],\"barpolar\":[{\"marker\":{\"line\":{\"color\":\"#E5ECF6\",\"width\":0.5},\"pattern\":{\"fillmode\":\"overlay\",\"size\":10,\"solidity\":0.2}},\"type\":\"barpolar\"}],\"pie\":[{\"automargin\":true,\"type\":\"pie\"}]},\"layout\":{\"autotypenumbers\":\"strict\",\"colorway\":[\"#636efa\",\"#EF553B\",\"#00cc96\",\"#ab63fa\",\"#FFA15A\",\"#19d3f3\",\"#FF6692\",\"#B6E880\",\"#FF97FF\",\"#FECB52\"],\"font\":{\"color\":\"#2a3f5f\"},\"hovermode\":\"closest\",\"hoverlabel\":{\"align\":\"left\"},\"paper_bgcolor\":\"white\",\"plot_bgcolor\":\"#E5ECF6\",\"polar\":{\"bgcolor\":\"#E5ECF6\",\"angularaxis\":{\"gridcolor\":\"white\",\"linecolor\":\"white\",\"ticks\":\"\"},\"radialaxis\":{\"gridcolor\":\"white\",\"linecolor\":\"white\",\"ticks\":\"\"}},\"ternary\":{\"bgcolor\":\"#E5ECF6\",\"aaxis\":{\"gridcolor\":\"white\",\"linecolor\":\"white\",\"ticks\":\"\"},\"baxis\":{\"gridcolor\":\"white\",\"linecolor\":\"white\",\"ticks\":\"\"},\"caxis\":{\"gridcolor\":\"white\",\"linecolor\":\"white\",\"ticks\":\"\"}},\"coloraxis\":{\"colorbar\":{\"outlinewidth\":0,\"ticks\":\"\"}},\"colorscale\":{\"sequential\":[[0.0,\"#0d0887\"],[0.1111111111111111,\"#46039f\"],[0.2222222222222222,\"#7201a8\"],[0.3333333333333333,\"#9c179e\"],[0.4444444444444444,\"#bd3786\"],[0.5555555555555556,\"#d8576b\"],[0.6666666666666666,\"#ed7953\"],[0.7777777777777778,\"#fb9f3a\"],[0.8888888888888888,\"#fdca26\"],[1.0,\"#f0f921\"]],\"sequentialminus\":[[0.0,\"#0d0887\"],[0.1111111111111111,\"#46039f\"],[0.2222222222222222,\"#7201a8\"],[0.3333333333333333,\"#9c179e\"],[0.4444444444444444,\"#bd3786\"],[0.5555555555555556,\"#d8576b\"],[0.6666666666666666,\"#ed7953\"],[0.7777777777777778,\"#fb9f3a\"],[0.8888888888888888,\"#fdca26\"],[1.0,\"#f0f921\"]],\"diverging\":[[0,\"#8e0152\"],[0.1,\"#c51b7d\"],[0.2,\"#de77ae\"],[0.3,\"#f1b6da\"],[0.4,\"#fde0ef\"],[0.5,\"#f7f7f7\"],[0.6,\"#e6f5d0\"],[0.7,\"#b8e186\"],[0.8,\"#7fbc41\"],[0.9,\"#4d9221\"],[1,\"#276419\"]]},\"xaxis\":{\"gridcolor\":\"white\",\"linecolor\":\"white\",\"ticks\":\"\",\"title\":{\"standoff\":15},\"zerolinecolor\":\"white\",\"automargin\":true,\"zerolinewidth\":2},\"yaxis\":{\"gridcolor\":\"white\",\"linecolor\":\"white\",\"ticks\":\"\",\"title\":{\"standoff\":15},\"zerolinecolor\":\"white\",\"automargin\":true,\"zerolinewidth\":2},\"scene\":{\"xaxis\":{\"backgroundcolor\":\"#E5ECF6\",\"gridcolor\":\"white\",\"linecolor\":\"white\",\"showbackground\":true,\"ticks\":\"\",\"zerolinecolor\":\"white\",\"gridwidth\":2},\"yaxis\":{\"backgroundcolor\":\"#E5ECF6\",\"gridcolor\":\"white\",\"linecolor\":\"white\",\"showbackground\":true,\"ticks\":\"\",\"zerolinecolor\":\"white\",\"gridwidth\":2},\"zaxis\":{\"backgroundcolor\":\"#E5ECF6\",\"gridcolor\":\"white\",\"linecolor\":\"white\",\"showbackground\":true,\"ticks\":\"\",\"zerolinecolor\":\"white\",\"gridwidth\":2}},\"shapedefaults\":{\"line\":{\"color\":\"#2a3f5f\"}},\"annotationdefaults\":{\"arrowcolor\":\"#2a3f5f\",\"arrowhead\":0,\"arrowwidth\":1},\"geo\":{\"bgcolor\":\"white\",\"landcolor\":\"#E5ECF6\",\"subunitcolor\":\"white\",\"showland\":true,\"showlakes\":true,\"lakecolor\":\"white\"},\"title\":{\"x\":0.05},\"mapbox\":{\"style\":\"light\"}}},\"margin\":{\"l\":65,\"r\":50,\"b\":65,\"t\":90},\"title\":{\"text\":\"Time consuming\"},\"autosize\":false,\"width\":750,\"height\":750,\"scene\":{\"xaxis\":{\"title\":{\"text\":\"Process\"}},\"yaxis\":{\"title\":{\"text\":\"size of matrix\"}},\"zaxis\":{\"title\":{\"text\":\"Time[sec]\"}}}},                        {\"responsive\": true}                    ).then(function(){\n",
       "                            \n",
       "var gd = document.getElementById('1ee02d4d-e0c1-450f-b09a-6fd1db98e02d');\n",
       "var x = new MutationObserver(function (mutations, observer) {{\n",
       "        var display = window.getComputedStyle(gd).display;\n",
       "        if (!display || display === 'none') {{\n",
       "            console.log([gd, 'removed!']);\n",
       "            Plotly.purge(gd);\n",
       "            observer.disconnect();\n",
       "        }}\n",
       "}});\n",
       "\n",
       "// Listen for the removal of the full notebook cells\n",
       "var notebookContainer = gd.closest('#notebook-container');\n",
       "if (notebookContainer) {{\n",
       "    x.observe(notebookContainer, {childList: true});\n",
       "}}\n",
       "\n",
       "// Listen for the clearing of the current output cell\n",
       "var outputEl = gd.closest('.output');\n",
       "if (outputEl) {{\n",
       "    x.observe(outputEl, {childList: true});\n",
       "}}\n",
       "\n",
       "                        })                };                });            </script>        </div>"
      ]
     },
     "metadata": {},
     "output_type": "display_data"
    }
   ],
   "source": [
    "fig = go.Figure(data=[go.Surface(z=times, x=size, y=threads)])\n",
    "fig.update_layout(title='Time consuming', autosize=False,\n",
    "                  width=750, height=750,\n",
    "                  margin=dict(l=65, r=50, b=65, t=90),\n",
    "                  scene= go.Scene(\n",
    "                    xaxis=go.XAxis(title='Process'),\n",
    "                    yaxis=go.YAxis(title='size of matrix'),\n",
    "                    zaxis=go.ZAxis(title='Time[sec]')))\n",
    "fig.show()"
   ]
  },
  {
   "cell_type": "code",
   "execution_count": null,
   "id": "96cd2a13",
   "metadata": {},
   "outputs": [],
   "source": []
  }
 ],
 "metadata": {
  "kernelspec": {
   "display_name": "Python 3 (ipykernel)",
   "language": "python",
   "name": "python3"
  },
  "language_info": {
   "codemirror_mode": {
    "name": "ipython",
    "version": 3
   },
   "file_extension": ".py",
   "mimetype": "text/x-python",
   "name": "python",
   "nbconvert_exporter": "python",
   "pygments_lexer": "ipython3",
   "version": "3.10.11"
  }
 },
 "nbformat": 4,
 "nbformat_minor": 5
}
